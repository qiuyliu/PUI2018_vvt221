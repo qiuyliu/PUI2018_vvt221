{
 "cells": [
  {
   "cell_type": "markdown",
   "metadata": {
    "run_control": {
     "frozen": false,
     "read_only": false
    },
    "toc": "true"
   },
   "source": [
    "# Table of Contents\n",
    " <p><div class=\"lev1 toc-item\"><a href=\"#DATA:\" data-toc-modified-id=\"DATA:-1\"><span class=\"toc-item-num\">1&nbsp;&nbsp;</span>DATA:</a></div><div class=\"lev1 toc-item\"><a href=\"#exploration\" data-toc-modified-id=\"exploration-2\"><span class=\"toc-item-num\">2&nbsp;&nbsp;</span>exploration</a></div><div class=\"lev2 toc-item\"><a href=\"#plot-mass-shooting-vs-gdp-in-absolute-numbers,-and-per-person.-Show-the-errorbars-(y-errors)\" data-toc-modified-id=\"plot-mass-shooting-vs-gdp-in-absolute-numbers,-and-per-person.-Show-the-errorbars-(y-errors)-21\"><span class=\"toc-item-num\">2.1&nbsp;&nbsp;</span>plot mass shooting vs gdp in absolute numbers, and per person. Show the errorbars (y errors)</a></div><div class=\"lev2 toc-item\"><a href=\"#plot-the-average-number-of-civilian-fire-arms-per-person\" data-toc-modified-id=\"plot-the-average-number-of-civilian-fire-arms-per-person-22\"><span class=\"toc-item-num\">2.2&nbsp;&nbsp;</span>plot the average number of civilian fire arms per person</a></div><div class=\"lev2 toc-item\"><a href=\"#plot-the-average-number-of-homicide-by-fire-arms-per-person\" data-toc-modified-id=\"plot-the-average-number-of-homicide-by-fire-arms-per-person-23\"><span class=\"toc-item-num\">2.3&nbsp;&nbsp;</span>plot the average number of homicide by fire arms per person</a></div><div class=\"lev2 toc-item\"><a href=\"#plot-the-number-of--homicides-by-fire-arm-against-the-number-of-civilian-firearms.-plot-the--US-in-a-different-color\" data-toc-modified-id=\"plot-the-number-of--homicides-by-fire-arm-against-the-number-of-civilian-firearms.-plot-the--US-in-a-different-color-24\"><span class=\"toc-item-num\">2.4&nbsp;&nbsp;</span>plot the number of  homicides by fire arm against the number of civilian firearms. plot the  US in a different color</a></div><div class=\"lev2 toc-item\"><a href=\"#plot-the-number-of--mass-shootings-against-the-number-of-civilian-firearms.-plot-the--US-in-a-different-color\" data-toc-modified-id=\"plot-the-number-of--mass-shootings-against-the-number-of-civilian-firearms.-plot-the--US-in-a-different-color-25\"><span class=\"toc-item-num\">2.5&nbsp;&nbsp;</span>plot the number of  mass shootings against the number of civilian firearms. plot the  US in a different color</a></div><div class=\"lev1 toc-item\"><a href=\"#Modeling\" data-toc-modified-id=\"Modeling-3\"><span class=\"toc-item-num\">3&nbsp;&nbsp;</span>Modeling</a></div><div class=\"lev2 toc-item\"><a href=\"#fit-a-line-to-the-Number-of-mass-shootings--per-person-as-a-function-of-Average-total-all-civilian-firearms-per-person.\" data-toc-modified-id=\"fit-a-line-to-the-Number-of-mass-shootings--per-person-as-a-function-of-Average-total-all-civilian-firearms-per-person.-31\"><span class=\"toc-item-num\">3.1&nbsp;&nbsp;</span>fit a line to the Number of mass shootings  per person as a function of Average total all civilian firearms per person.</a></div><div class=\"lev2 toc-item\"><a href=\"#Outlier-removal:\" data-toc-modified-id=\"Outlier-removal:-32\"><span class=\"toc-item-num\">3.2&nbsp;&nbsp;</span>Outlier removal:</a></div><div class=\"lev2 toc-item\"><a href=\"#Extra-credit:-calculate-the-confidence-interval-by-hand-and-also-plot-them\" data-toc-modified-id=\"Extra-credit:-calculate-the-confidence-interval-by-hand-and-also-plot-them-33\"><span class=\"toc-item-num\">3.3&nbsp;&nbsp;</span>Extra credit: calculate the confidence interval by hand and also plot them</a></div><div class=\"lev2 toc-item\"><a href=\"#Use-the-stsatsmodels.gaphics-package-to-plot-the-influence-plot.\" data-toc-modified-id=\"Use-the-stsatsmodels.gaphics-package-to-plot-the-influence-plot.-34\"><span class=\"toc-item-num\">3.4&nbsp;&nbsp;</span>Use the stsatsmodels.gaphics package to plot the influence plot.</a></div><div class=\"lev2 toc-item\"><a href=\"#Extra-credit:-calculate-from-scratch-the-stanrdardized-residuals-and-the-H-leverage-for-the-WLS-model-and-discuss-if-there-are-any-differences\" data-toc-modified-id=\"Extra-credit:-calculate-from-scratch-the-stanrdardized-residuals-and-the-H-leverage-for-the-WLS-model-and-discuss-if-there-are-any-differences-35\"><span class=\"toc-item-num\">3.5&nbsp;&nbsp;</span>Extra credit: calculate from scratch the stanrdardized residuals and the H leverage for the WLS model and discuss if there are any differences</a></div><div class=\"lev2 toc-item\"><a href=\"#Discuss-your-findings\" data-toc-modified-id=\"Discuss-your-findings-36\"><span class=\"toc-item-num\">3.6&nbsp;&nbsp;</span>Discuss your findings</a></div>"
   ]
  },
  {
   "cell_type": "markdown",
   "metadata": {
    "run_control": {
     "frozen": false,
     "read_only": false
    }
   },
   "source": [
    "**regression exercise**\n",
    "\n",
    "**written by Federica B Bianco CUSP 2017**\n",
    "\n",
    "**for PUI lecture on models and linear regression**"
   ]
  },
  {
   "cell_type": "markdown",
   "metadata": {
    "run_control": {
     "frozen": false,
     "read_only": false
    }
   },
   "source": [
    "**investigate linear relationships between fire arm possession, homicides by fire arms, and mass shootings for different countries, considering also the country GDP**"
   ]
  },
  {
   "cell_type": "markdown",
   "metadata": {},
   "source": [
    "### Downloading the file using an API"
   ]
  },
  {
   "cell_type": "markdown",
   "metadata": {
    "run_control": {
     "frozen": false,
     "read_only": false
    }
   },
   "source": [
    "# DATA: \n",
    "\n",
    "The Guardian firearms murders and ownership data. The relevans sheet is uploaded in the github repository as a csv file. Download it from there. Note: this dataset is from 2012.\n",
    "\n",
    "**Extra credit**: download directly from google docs with a google API\n",
    "\n",
    "https://docs.google.com/spreadsheets/d/1chqUZHuY6cXYrRYkuE0uwXisGaYvr7durZHJhpLGycs/edit#gid=0\n",
    "\n",
    "Number of mass shootings: find the link here https://datawrapper.dwcdn.net/pvLFI/4/\n",
    "\n",
    "The world population by country find the download link here :\n",
    "https://data.worldbank.org/indicator/SP.POP.TOTL\n",
    "\n",
    "Remember that all read or downloads have to me reproducible.\n",
    "\n",
    "Merge all datasets. After throwing away the irrelevant data it should look something like this (I renamed the GDP and the population as gdp\" and \"pop\")\n",
    "\n",
    "Throughout, when I ask you to include errors in plots or models, use Poisson statistics: the error is the square root of the number you are considering (e.g. this country has N fire arms +/- square root of N, or this country has Np [= N/population +/- (square root of N) / population] fire arms per person)."
   ]
  },
  {
   "cell_type": "code",
   "execution_count": 2,
   "metadata": {},
   "outputs": [
    {
     "name": "stdout",
     "output_type": "stream",
     "text": [
      "Populating the interactive namespace from numpy and matplotlib\n"
     ]
    },
    {
     "name": "stderr",
     "output_type": "stream",
     "text": [
      "/usr/local/Anaconda3-5.0.0-Linux-x86_64/envs/PUI2016_Python3/lib/python3.5/site-packages/IPython/html.py:14: ShimWarning: The `IPython.html` package has been deprecated. You should import from `notebook` instead. `IPython.html.widgets` has moved to `ipywidgets`.\n",
      "  \"`IPython.html.widgets` has moved to `ipywidgets`.\", ShimWarning)\n"
     ]
    }
   ],
   "source": [
    "import pandas as pd\n",
    "import urllib\n",
    "import os\n",
    "import sys\n",
    "import io\n",
    "import pylab as pl\n",
    "import statsmodels.api as sm\n",
    "import numpy as np\n",
    "import seaborn as sns\n",
    "from scipy import stats\n",
    "%pylab inline"
   ]
  },
  {
   "cell_type": "code",
   "execution_count": 2,
   "metadata": {},
   "outputs": [
    {
     "name": "stdout",
     "output_type": "stream",
     "text": [
      "Archive:  wpop.gz\r\n",
      "  inflating: /nfshome/vvt221/PUIdata/wpop/Metadata_Indicator_API_SP.POP.TOTL_DS2_en_csv_v2_10203548.csv  \r\n",
      "  inflating: /nfshome/vvt221/PUIdata/wpop/API_SP.POP.TOTL_DS2_en_csv_v2_10203548.csv  \r\n",
      "  inflating: /nfshome/vvt221/PUIdata/wpop/Metadata_Country_API_SP.POP.TOTL_DS2_en_csv_v2_10203548.csv  \r\n"
     ]
    }
   ],
   "source": [
    "# data download\n",
    "\n",
    "\n",
    "url = \"http://api.worldbank.org/v2/en/indicator/SP.POP.TOTL?downloadformat=csv\"\n",
    "urllib.request.urlretrieve(url, \"wpop.gz\")\n",
    "!unzip -d $PUIDATA/wpop wpop.gz\n"
   ]
  },
  {
   "cell_type": "code",
   "execution_count": 3,
   "metadata": {},
   "outputs": [
    {
     "name": "stdout",
     "output_type": "stream",
     "text": [
      "Archive:  gdp.gz\r\n",
      "  inflating: /nfshome/vvt221/PUIdata/gdp/Metadata_Indicator_API_NY.GDP.MKTP.CD_DS2_en_csv_v2_10203569.csv  \r\n",
      "  inflating: /nfshome/vvt221/PUIdata/gdp/API_NY.GDP.MKTP.CD_DS2_en_csv_v2_10203569.csv  \r\n",
      "  inflating: /nfshome/vvt221/PUIdata/gdp/Metadata_Country_API_NY.GDP.MKTP.CD_DS2_en_csv_v2_10203569.csv  \r\n"
     ]
    }
   ],
   "source": [
    "# population url\n",
    "\n",
    "url = \"http://api.worldbank.org/v2/en/indicator/NY.GDP.MKTP.CD?downloadformat=csv\"\n",
    "urllib.request.urlretrieve(url, \"gdp.gz\")\n",
    "!unzip -d $PUIDATA/gdp gdp.gz\n"
   ]
  },
  {
   "cell_type": "code",
   "execution_count": 4,
   "metadata": {},
   "outputs": [],
   "source": [
    "gdp_url = 'data:application/octet-stream;charset=utf-8,Country%2CGuns%20per%20100%20inhabitants%2CNumber%20of%20mass%20shootings%20(1983-2013)%0AAustralia%2C15%2C4%0AAustria%2C30.4%2C1%0ABelgium%2C17.2%2C2%0ACanada%2C30.8%2C4%0ADenmark%2C12%2C0%0AFinland%2C45.3%2C2%0AFrance%2C31.2%2C6%0AGermany%2C30.3%2C7%0AGreece%2C22.5%2C0%0AHolland%2C3.9%2C2%0AHungary%2C5.5%2C0%0AIceland%2C30.3%2C0%0AIreland%2C8.6%2C0%0AItaly%2C11.9%2C0%0AJapan%2C0.6%2C0%0ALuxembourg%2C15.3%2C0%0ANew%20Zealand%2C22.6%2C3%0ANorway%2C31.3%2C1%0APoland%2C1.3%2C0%0APortugal%2C8.5%2C1%0ASpain%2C10.4%2C1%0ASweden%2C31.6%2C2%0ASwitzerland%2C45.7%2C2%0AUnited%20Kingdom%2C6.2%2C3%0AUnited%20States%2C88.8%2C78'\n",
    "s = urllib.request.urlretrieve(gdp_url,'gdp.csv')\n",
    "! mv gdp.csv $PUIDATA\n",
    "gdp_df = pd.read_csv(os.getenv('PUIDATA') + '/gdp.csv')\n"
   ]
  },
  {
   "cell_type": "code",
   "execution_count": 5,
   "metadata": {},
   "outputs": [
    {
     "data": {
      "text/html": [
       "<div>\n",
       "<table border=\"1\" class=\"dataframe\">\n",
       "  <thead>\n",
       "    <tr style=\"text-align: right;\">\n",
       "      <th></th>\n",
       "      <th>Country</th>\n",
       "      <th>Guns per 100 inhabitants</th>\n",
       "      <th>Number of mass shootings (1983-2013)</th>\n",
       "    </tr>\n",
       "  </thead>\n",
       "  <tbody>\n",
       "    <tr>\n",
       "      <th>0</th>\n",
       "      <td>Australia</td>\n",
       "      <td>15.0</td>\n",
       "      <td>4</td>\n",
       "    </tr>\n",
       "    <tr>\n",
       "      <th>1</th>\n",
       "      <td>Austria</td>\n",
       "      <td>30.4</td>\n",
       "      <td>1</td>\n",
       "    </tr>\n",
       "    <tr>\n",
       "      <th>2</th>\n",
       "      <td>Belgium</td>\n",
       "      <td>17.2</td>\n",
       "      <td>2</td>\n",
       "    </tr>\n",
       "    <tr>\n",
       "      <th>3</th>\n",
       "      <td>Canada</td>\n",
       "      <td>30.8</td>\n",
       "      <td>4</td>\n",
       "    </tr>\n",
       "    <tr>\n",
       "      <th>4</th>\n",
       "      <td>Denmark</td>\n",
       "      <td>12.0</td>\n",
       "      <td>0</td>\n",
       "    </tr>\n",
       "  </tbody>\n",
       "</table>\n",
       "</div>"
      ],
      "text/plain": [
       "     Country  Guns per 100 inhabitants  Number of mass shootings (1983-2013)\n",
       "0  Australia                      15.0                                     4\n",
       "1    Austria                      30.4                                     1\n",
       "2    Belgium                      17.2                                     2\n",
       "3     Canada                      30.8                                     4\n",
       "4    Denmark                      12.0                                     0"
      ]
     },
     "execution_count": 5,
     "metadata": {},
     "output_type": "execute_result"
    }
   ],
   "source": [
    "gdp_df.head()"
   ]
  },
  {
   "cell_type": "code",
   "execution_count": 6,
   "metadata": {},
   "outputs": [],
   "source": [
    "worldpop = pd.read_csv(os.getenv('PUIDATA') + '/API_SP.POP.TOTL_DS2_en_csv_v2_10203548.csv',usecols=['Country Name', '2012'],skiprows=[0,1,2,3])"
   ]
  },
  {
   "cell_type": "code",
   "execution_count": 7,
   "metadata": {},
   "outputs": [],
   "source": [
    "worldgdp = pd.read_csv(os.getenv('PUIDATA') + '/API_NY.GDP.MKTP.CD_DS2_en_csv_v2_10203569.csv',usecols=['Country Name', '2012'],skiprows=[0,1,2,3])"
   ]
  },
  {
   "cell_type": "code",
   "execution_count": 8,
   "metadata": {},
   "outputs": [],
   "source": [
    "worldpop.rename(columns={'2012' :'population'},inplace=True)\n",
    "worldgdp.rename(columns={'2012' :'gdp'},inplace=True)"
   ]
  },
  {
   "cell_type": "code",
   "execution_count": 9,
   "metadata": {},
   "outputs": [],
   "source": [
    "world_df = pd.merge(worldgdp,worldpop, on='Country Name', how='outer')"
   ]
  },
  {
   "cell_type": "code",
   "execution_count": 10,
   "metadata": {},
   "outputs": [
    {
     "data": {
      "text/plain": [
       "(264, 3)"
      ]
     },
     "execution_count": 10,
     "metadata": {},
     "output_type": "execute_result"
    }
   ],
   "source": [
    "world_df.shape"
   ]
  },
  {
   "cell_type": "code",
   "execution_count": 9,
   "metadata": {},
   "outputs": [
    {
     "name": "stdout",
     "output_type": "stream",
     "text": [
      "  % Total    % Received % Xferd  Average Speed   Time    Time     Time  Current\n",
      "                                 Dload  Upload   Total   Spent    Left  Speed\n",
      "100  7852  100  7852    0     0  69493      0 --:--:-- --:--:-- --:--:-- 70107\n"
     ]
    }
   ],
   "source": [
    "\n",
    "\n",
    "!curl https://raw.githubusercontent.com/fedhere/PUI2018_fb55/master/HW9_fb55/World%20firearms%20murders%20and%20ownership%20-%20Sheet%201.csv > gv.csv\n",
    "    \n",
    "firearm = pd.read_csv('./gv.csv', usecols=['Country/Territory','Average total all civilian firearms','Number of homicides by firearm'])"
   ]
  },
  {
   "cell_type": "code",
   "execution_count": 10,
   "metadata": {},
   "outputs": [],
   "source": [
    "firearm.rename(columns={'Country/Territory': 'Country'} , inplace=True)\n",
    "\n"
   ]
  },
  {
   "cell_type": "code",
   "execution_count": 13,
   "metadata": {
    "ExecuteTime": {
     "end_time": "2017-10-12T11:18:40.575581",
     "start_time": "2017-10-12T11:18:40.446116"
    },
    "run_control": {
     "frozen": false,
     "read_only": false
    }
   },
   "outputs": [
    {
     "data": {
      "text/plain": [
       "Index(['Country', 'Guns per 100 inhabitants',\n",
       "       'Number of mass shootings (1983-2013)', 'Country Name', 'gdp',\n",
       "       'population'],\n",
       "      dtype='object')"
      ]
     },
     "execution_count": 13,
     "metadata": {},
     "output_type": "execute_result"
    }
   ],
   "source": [
    "df1 = pd.merge(gdp_df, world_df, right_on=\"Country Name\", left_on=\"Country\",how='outer')\n",
    "df1.columns"
   ]
  },
  {
   "cell_type": "code",
   "execution_count": 14,
   "metadata": {},
   "outputs": [],
   "source": [
    "df_ = pd.merge(firearm,df1,left_on=\"Country\",right_on=\"Country\")"
   ]
  },
  {
   "cell_type": "code",
   "execution_count": 15,
   "metadata": {},
   "outputs": [],
   "source": [
    "df_.dropna(inplace=True)"
   ]
  },
  {
   "cell_type": "code",
   "execution_count": 16,
   "metadata": {},
   "outputs": [
    {
     "data": {
      "text/html": [
       "<div>\n",
       "<table border=\"1\" class=\"dataframe\">\n",
       "  <thead>\n",
       "    <tr style=\"text-align: right;\">\n",
       "      <th></th>\n",
       "      <th>Country</th>\n",
       "      <th>Number of homicides by firearm</th>\n",
       "      <th>Average total all civilian firearms</th>\n",
       "      <th>Guns per 100 inhabitants</th>\n",
       "      <th>Number of mass shootings (1983-2013)</th>\n",
       "      <th>Country Name</th>\n",
       "      <th>gdp</th>\n",
       "      <th>population</th>\n",
       "    </tr>\n",
       "  </thead>\n",
       "  <tbody>\n",
       "    <tr>\n",
       "      <th>18</th>\n",
       "      <td>Portugal</td>\n",
       "      <td>44.0</td>\n",
       "      <td>900000.0</td>\n",
       "      <td>8.5</td>\n",
       "      <td>1.0</td>\n",
       "      <td>Portugal</td>\n",
       "      <td>2.163682e+11</td>\n",
       "      <td>10514844.0</td>\n",
       "    </tr>\n",
       "    <tr>\n",
       "      <th>19</th>\n",
       "      <td>Spain</td>\n",
       "      <td>90.0</td>\n",
       "      <td>4500000.0</td>\n",
       "      <td>10.4</td>\n",
       "      <td>1.0</td>\n",
       "      <td>Spain</td>\n",
       "      <td>1.336019e+12</td>\n",
       "      <td>46773055.0</td>\n",
       "    </tr>\n",
       "    <tr>\n",
       "      <th>20</th>\n",
       "      <td>Sweden</td>\n",
       "      <td>37.0</td>\n",
       "      <td>2800000.0</td>\n",
       "      <td>31.6</td>\n",
       "      <td>2.0</td>\n",
       "      <td>Sweden</td>\n",
       "      <td>5.438806e+11</td>\n",
       "      <td>9519374.0</td>\n",
       "    </tr>\n",
       "    <tr>\n",
       "      <th>21</th>\n",
       "      <td>Switzerland</td>\n",
       "      <td>57.0</td>\n",
       "      <td>3400000.0</td>\n",
       "      <td>45.7</td>\n",
       "      <td>2.0</td>\n",
       "      <td>Switzerland</td>\n",
       "      <td>6.680436e+11</td>\n",
       "      <td>7996861.0</td>\n",
       "    </tr>\n",
       "    <tr>\n",
       "      <th>22</th>\n",
       "      <td>United States</td>\n",
       "      <td>9146.0</td>\n",
       "      <td>270000000.0</td>\n",
       "      <td>88.8</td>\n",
       "      <td>78.0</td>\n",
       "      <td>United States</td>\n",
       "      <td>1.615526e+13</td>\n",
       "      <td>313993272.0</td>\n",
       "    </tr>\n",
       "  </tbody>\n",
       "</table>\n",
       "</div>"
      ],
      "text/plain": [
       "          Country  Number of homicides by firearm  \\\n",
       "18       Portugal                            44.0   \n",
       "19          Spain                            90.0   \n",
       "20         Sweden                            37.0   \n",
       "21    Switzerland                            57.0   \n",
       "22  United States                          9146.0   \n",
       "\n",
       "    Average total all civilian firearms  Guns per 100 inhabitants  \\\n",
       "18                             900000.0                       8.5   \n",
       "19                            4500000.0                      10.4   \n",
       "20                            2800000.0                      31.6   \n",
       "21                            3400000.0                      45.7   \n",
       "22                          270000000.0                      88.8   \n",
       "\n",
       "    Number of mass shootings (1983-2013)   Country Name           gdp  \\\n",
       "18                                   1.0       Portugal  2.163682e+11   \n",
       "19                                   1.0          Spain  1.336019e+12   \n",
       "20                                   2.0         Sweden  5.438806e+11   \n",
       "21                                   2.0    Switzerland  6.680436e+11   \n",
       "22                                  78.0  United States  1.615526e+13   \n",
       "\n",
       "     population  \n",
       "18   10514844.0  \n",
       "19   46773055.0  \n",
       "20    9519374.0  \n",
       "21    7996861.0  \n",
       "22  313993272.0  "
      ]
     },
     "execution_count": 16,
     "metadata": {},
     "output_type": "execute_result"
    }
   ],
   "source": [
    "df_.tail()"
   ]
  },
  {
   "cell_type": "markdown",
   "metadata": {
    "run_control": {
     "frozen": false,
     "read_only": false
    }
   },
   "source": [
    "# exploration\n",
    "\n",
    "## plot mass shooting vs gdp in absolute numbers, and per person. Show the errorbars (y errors)\n",
    "\n",
    "Use Poisson statistics for the errorbars on the number of mass shootings (optional: include errors on the population, also as Poisson statistics)\n",
    "\n",
    "Are there any points that look like they may be outilers?\n"
   ]
  },
  {
   "cell_type": "code",
   "execution_count": 17,
   "metadata": {},
   "outputs": [
    {
     "data": {
      "text/plain": [
       "Index(['Country', 'Number of homicides by firearm',\n",
       "       'Average total all civilian firearms', 'Guns per 100 inhabitants',\n",
       "       'Number of mass shootings (1983-2013)', 'Country Name', 'gdp',\n",
       "       'population'],\n",
       "      dtype='object')"
      ]
     },
     "execution_count": 17,
     "metadata": {},
     "output_type": "execute_result"
    }
   ],
   "source": [
    "df_.columns"
   ]
  },
  {
   "cell_type": "code",
   "execution_count": 18,
   "metadata": {},
   "outputs": [
    {
     "data": {
      "image/png": "[encoded data removed]",
      "text/plain": [
       "<matplotlib.figure.Figure at 0x7fd4e89be320>"
      ]
     },
     "metadata": {},
     "output_type": "display_data"
    },
    {
     "name": "stdout",
     "output_type": "stream",
     "text": [
      "Number of mass shooting vs ppoulation, errors represent Poisson statistics.\n",
      "The datapoint to the top right of the plot is the USA\n"
     ]
    }
   ],
   "source": [
    "fig = pl.figure(figsize=(10,5)) \n",
    "ax = fig.add_subplot(111)\n",
    "\n",
    "scatter = ax.scatter(df_['population'] /1e5 , df_['Number of mass shootings (1983-2013)'])\n",
    "ax.errorbar(df_['population'] / 1e5, df_['Number of mass shootings (1983-2013)'], \n",
    "            yerr = np.sqrt(df_['Number of mass shootings (1983-2013)'] * 1.0), fmt = '.')\n",
    "ax.set_xlabel(\"population\")\n",
    "ax.set_ylabel(\"Number of mass shootings (1983-2013)\")\n",
    "ax.set_ylim()\n",
    "pl.show()\n",
    "print (\"Number of mass shooting vs ppoulation, \" + \n",
    "       \"errors represent Poisson statistics.\\n\" + \n",
    "       \"The datapoint to the top right of the plot is the USA\")\n"
   ]
  },
  {
   "cell_type": "code",
   "execution_count": 19,
   "metadata": {},
   "outputs": [
    {
     "data": {
      "image/png": "[encoded data removed]",
      "text/plain": [
       "<matplotlib.figure.Figure at 0x7fd4e8a24630>"
      ]
     },
     "metadata": {},
     "output_type": "display_data"
    },
    {
     "name": "stdout",
     "output_type": "stream",
     "text": [
      "Number of mass shooting vs PopulTION, errors represent Poisson statistics.\n",
      "The datapoint to the top right of the plot is the USA, which has noth the highest GDP and the highest number of mass shootings\n"
     ]
    }
   ],
   "source": [
    "fig = pl.figure(figsize=(10,5)) \n",
    "ax = fig.add_subplot(111)\n",
    "\n",
    "scatter = ax.scatter(df_.gdp  , df_[\"Number of mass shootings (1983-2013)\"])\n",
    "ax.errorbar(df_.gdp   , df_[\"Number of mass shootings (1983-2013)\"], \n",
    "            yerr =np.sqrt(df_[\"Number of mass shootings (1983-2013)\"]), fmt = '.')\n",
    "ax.set_xlabel(\"GDP (in billions)\")\n",
    "ax.set_ylabel(\"Number of mass shootings (1983-2013)\")\n",
    "ax.set_ylim()\n",
    "pl.show()\n",
    "print (\"Number of mass shooting vs PopulTION, \" + \n",
    "       \"errors represent Poisson statistics.\\n\" + \n",
    "       \"The datapoint to the top right of the plot is the USA, \" + \n",
    "       \"which has noth the highest GDP and the highest number of mass shootings\")"
   ]
  },
  {
   "cell_type": "markdown",
   "metadata": {
    "run_control": {
     "frozen": false,
     "read_only": false
    }
   },
   "source": [
    "## plot the average number of civilian fire arms per person\n",
    "first without errors, then with errors. are there  points that look like outliers?"
   ]
  },
  {
   "cell_type": "code",
   "execution_count": 20,
   "metadata": {
    "ExecuteTime": {
     "end_time": "2017-10-12T07:17:52.778486",
     "start_time": "2017-10-12T07:17:52.768299"
    },
    "run_control": {
     "frozen": false,
     "read_only": false
    }
   },
   "outputs": [
    {
     "data": {
      "text/plain": [
       "Text(0,0.5,'average number of civilian fire arms per person')"
      ]
     },
     "execution_count": 20,
     "metadata": {},
     "output_type": "execute_result"
    },
    {
     "data": {
      "image/png": "[encoded data removed]",
      "text/plain": [
       "<matplotlib.figure.Figure at 0x7fd4e89bb978>"
      ]
     },
     "metadata": {},
     "output_type": "display_data"
    }
   ],
   "source": [
    "df_['shootingspp'] = df_[\"Average total all civilian firearms\"] / df_['population'] * 1e3\n",
    "pl.plot(df_['shootingspp'],df_['population']/1e5,'.b')\n",
    "pl.xlabel('population')\n",
    "pl.ylabel('average number of civilian fire arms per person')\n",
    "\n"
   ]
  },
  {
   "cell_type": "markdown",
   "metadata": {},
   "source": [
    "### Fig : Plot showing the average number of civilian fire arms per person against population"
   ]
  },
  {
   "cell_type": "markdown",
   "metadata": {},
   "source": [
    "Interpretation:\n",
    "    \n",
    "As population increases, civilian fire deaths show a rise and then a decline with a sudden rise for an outlier value"
   ]
  },
  {
   "cell_type": "code",
   "execution_count": 21,
   "metadata": {},
   "outputs": [
    {
     "data": {
      "text/plain": [
       "Text(0,0.5,'average number of civilian fire arms per person')"
      ]
     },
     "execution_count": 21,
     "metadata": {},
     "output_type": "execute_result"
    },
    {
     "data": {
      "image/png": "[encoded data removed]",
      "text/plain": [
       "<matplotlib.figure.Figure at 0x7fd4e89bebe0>"
      ]
     },
     "metadata": {},
     "output_type": "display_data"
    }
   ],
   "source": [
    "plt.errorbar( df_['population']/ 1e5, \n",
    "             df_[\"Average total all civilian firearms\"] / df_['population'] ,\n",
    "            yerr = np.sqrt(df_[\"Average total all civilian firearms\"] / df_['population'] * 1000),\n",
    "            label='error bars plot',\n",
    "            fmt=\"go\",\n",
    "            linewidth=3)\n",
    "\n",
    "pl.xlabel('population')\n",
    "pl.ylabel('average number of civilian fire arms per person')\n"
   ]
  },
  {
   "cell_type": "markdown",
   "metadata": {},
   "source": [
    "### Fig : Plot showing the average number of civilian fire arms per person against population with error bars"
   ]
  },
  {
   "cell_type": "markdown",
   "metadata": {
    "run_control": {
     "frozen": false,
     "read_only": false
    }
   },
   "source": [
    "## plot the average number of homicide by fire arms per person\n",
    "first as a histogram\n",
    "\n",
    "then against the country GDP, with statistical errors. are there  points that look like outliers?"
   ]
  },
  {
   "cell_type": "code",
   "execution_count": 22,
   "metadata": {
    "ExecuteTime": {
     "end_time": "2017-10-12T07:53:17.910541",
     "start_time": "2017-10-12T07:53:17.506477"
    },
    "run_control": {
     "frozen": false,
     "read_only": false
    }
   },
   "outputs": [
    {
     "data": {
      "image/png": "[encoded data removed]",
      "text/plain": [
       "<matplotlib.figure.Figure at 0x7fd4e89bbb70>"
      ]
     },
     "metadata": {},
     "output_type": "display_data"
    }
   ],
   "source": [
    "fig, ax = plt.subplots()\n",
    "ax.hist(df_['Number of homicides by firearm'] / df_['population'] * 1000)\n",
    "ax.set_xlabel('homicides by firearm per 1000 people');\n"
   ]
  },
  {
   "cell_type": "code",
   "execution_count": 23,
   "metadata": {},
   "outputs": [
    {
     "data": {
      "text/plain": [
       "Text(0,0.5,'average number of civilian fire arms per person')"
      ]
     },
     "execution_count": 23,
     "metadata": {},
     "output_type": "execute_result"
    },
    {
     "data": {
      "image/png": "[encoded data removed]",
      "text/plain": [
       "<matplotlib.figure.Figure at 0x7fd4e43fc940>"
      ]
     },
     "metadata": {},
     "output_type": "display_data"
    }
   ],
   "source": [
    "plt.errorbar( df_['gdp']/ 1e10, \n",
    "             df_['Number of homicides by firearm'] / df_['population'] * 1000,\n",
    "            yerr = np.sqrt(df_['Number of homicides by firearm'] / df_['population'] * 1000),\n",
    "            label='error bars plot',\n",
    "            fmt=\"go\",\n",
    "            linewidth=3)\n",
    "\n",
    "pl.xlabel('GDP (in biilons)')\n",
    "pl.ylabel('average number of civilian fire arms per person')\n"
   ]
  },
  {
   "cell_type": "markdown",
   "metadata": {},
   "source": [
    "###  Fig : Plot showing the average number of civilian fire arms per person against the GDP with error bars.\n",
    "\n",
    "Interpretation:\n",
    "\n",
    "While most countries cluster together, there are a few outliers which stand out in the plt. The GDP of those countries is comparatively higher than the clustered countries."
   ]
  },
  {
   "cell_type": "markdown",
   "metadata": {
    "run_control": {
     "frozen": false,
     "read_only": false
    }
   },
   "source": [
    "## plot the number of  homicides by fire arm against the number of civilian firearms. plot the  US in a different color\n",
    "with and without errorbars\n"
   ]
  },
  {
   "cell_type": "code",
   "execution_count": 24,
   "metadata": {},
   "outputs": [],
   "source": [
    "firearms_usa = df_.loc[df_['Country'] == 'United States','Average total all civilian firearms'].values[0]\n",
    "usa_homicide = df_.loc[df_['Country'] == 'United States','Number of homicides by firearm'].values[0]"
   ]
  },
  {
   "cell_type": "code",
   "execution_count": 25,
   "metadata": {},
   "outputs": [
    {
     "data": {
      "text/plain": [
       "Text(0,0.5,'Number of homicides by firearm')"
      ]
     },
     "execution_count": 25,
     "metadata": {},
     "output_type": "execute_result"
    },
    {
     "data": {
      "image/png": "[encoded data removed]",
      "text/plain": [
       "<matplotlib.figure.Figure at 0x7fd4e43cb208>"
      ]
     },
     "metadata": {},
     "output_type": "display_data"
    }
   ],
   "source": [
    "pl.plot(firearms_usa/1e2,usa_homicide/1e2, '.r')\n",
    "pl.plot(df_['Average total all civilian firearms'][df_['Country'] != 'United States']/1e2,df_['Number of homicides by firearm'][df_['Country'] != 'United States']/1e2,'.b',alpha=0.5)\n",
    "pl.xlabel('Average total all civilian firearms')\n",
    "pl.ylabel('Number of homicides by firearm')"
   ]
  },
  {
   "cell_type": "markdown",
   "metadata": {},
   "source": [
    "### Fig: Plot showing the number of homicides by fire arm against the number of civilian firearms. USA taking lead here"
   ]
  },
  {
   "cell_type": "code",
   "execution_count": 26,
   "metadata": {},
   "outputs": [
    {
     "data": {
      "text/plain": [
       "Text(0,0.5,'Number of homicides by firearm with errorbar')"
      ]
     },
     "execution_count": 26,
     "metadata": {},
     "output_type": "execute_result"
    },
    {
     "data": {
      "image/png": "[encoded data removed]",
      "text/plain": [
       "<matplotlib.figure.Figure at 0x7fd4e43ceb70>"
      ]
     },
     "metadata": {},
     "output_type": "display_data"
    }
   ],
   "source": [
    "plt.errorbar( df_['Average total all civilian firearms'][df_['Country'] == 'United States']/1e7, \n",
    "             df_['Number of homicides by firearm'][df_['Country'] == 'United States']/1e8,\n",
    "            yerr = np.sqrt(df_['Number of homicides by firearm'][df_['Country'] == 'United States']/1e8*1.0),\n",
    "            label='error bars plot',\n",
    "            fmt=\"ro\",\n",
    "            linewidth=3)\n",
    "\n",
    "\n",
    "plt.errorbar( df_['Average total all civilian firearms'][df_['Country'] != 'United States']/1e7, \n",
    "             df_['Number of homicides by firearm'][df_['Country'] != 'United States']/1e8,\n",
    "            yerr = np.sqrt(df_['Number of homicides by firearm'][df_['Country'] != 'United States']/1e8*1.0),\n",
    "            label='error bars plot',\n",
    "            fmt=\"bo\",\n",
    "            linewidth=3)\n",
    "\n",
    "\n",
    "pl.xlabel('Average total all civilian firearms')\n",
    "pl.ylabel('Number of homicides by firearm with errorbar')"
   ]
  },
  {
   "cell_type": "markdown",
   "metadata": {},
   "source": [
    "### FIG: USA standing out as an outlier when plot showing the number of homicides by fire arm against the number of civilian firearms with errorbars is used."
   ]
  },
  {
   "cell_type": "markdown",
   "metadata": {
    "run_control": {
     "frozen": false,
     "read_only": false
    }
   },
   "source": [
    "## plot the number of  mass shootings against the number of civilian firearms. plot the  US in a different color\n",
    "with and without errorbars\n"
   ]
  },
  {
   "cell_type": "code",
   "execution_count": 27,
   "metadata": {},
   "outputs": [
    {
     "data": {
      "text/plain": [
       "Text(0,0.5,'Number of mass shootings')"
      ]
     },
     "execution_count": 27,
     "metadata": {},
     "output_type": "execute_result"
    },
    {
     "data": {
      "image/png": "[encoded data removed]",
      "text/plain": [
       "<matplotlib.figure.Figure at 0x7fd4e4370080>"
      ]
     },
     "metadata": {},
     "output_type": "display_data"
    }
   ],
   "source": [
    "pl.plot(df_['Average total all civilian firearms'][df_['Country'] == 'United States']/1e4,df_['Number of mass shootings (1983-2013)'][df_['Country'] == 'United States'],'.r')\n",
    "\n",
    "\n",
    "\n",
    "\n",
    "\n",
    "\n",
    "pl.plot(df_['Average total all civilian firearms'][df_['Country'] != 'United States']/1e4,df_['Number of mass shootings (1983-2013)'][df_['Country'] != 'United States'],'.b')\n",
    "\n",
    "pl.xlabel('Average number of civilian firearms')\n",
    "pl.ylabel('Number of mass shootings')"
   ]
  },
  {
   "cell_type": "markdown",
   "metadata": {},
   "source": [
    "### FIG: MORE CIVILIAN FIREARMS APPEAR TO LEAD TO MORE MASS SHOOTINGS. USA has about 27000 civiian firearms and again takes leas in the number of mass shootings"
   ]
  },
  {
   "cell_type": "code",
   "execution_count": 28,
   "metadata": {},
   "outputs": [
    {
     "data": {
      "text/plain": [
       "Text(0,0.5,'Number of mass shootings with errorbars')"
      ]
     },
     "execution_count": 28,
     "metadata": {},
     "output_type": "execute_result"
    },
    {
     "data": {
      "image/png": "[encoded data removed]",
      "text/plain": [
       "<matplotlib.figure.Figure at 0x7fd4e430de48>"
      ]
     },
     "metadata": {},
     "output_type": "display_data"
    }
   ],
   "source": [
    "plt.errorbar( df_['Average total all civilian firearms'][df_['Country'] == 'United States']/1e5, \n",
    "             df_['Number of mass shootings (1983-2013)'][df_['Country'] == 'United States'],\n",
    "            yerr = np.sqrt(df_['Number of mass shootings (1983-2013)'][df_['Country'] == 'United States']*1.0),\n",
    "            label='error bars plot',\n",
    "            fmt=\"ro\",\n",
    "            linewidth=3)\n",
    "\n",
    "plt.errorbar( df_['Average total all civilian firearms'][df_['Country'] != 'United States']/1e5, \n",
    "             df_['Number of mass shootings (1983-2013)'][df_['Country'] != 'United States'],\n",
    "            yerr = np.sqrt(df_['Number of mass shootings (1983-2013)'][df_['Country'] != 'United States']*1.0),\n",
    "            label='error bars plot',\n",
    "            fmt=\"bo\",\n",
    "            linewidth=3)\n",
    "\n",
    "pl.xlabel('Average number of civilian firearms')\n",
    "pl.ylabel('Number of mass shootings with errorbars')"
   ]
  },
  {
   "cell_type": "markdown",
   "metadata": {},
   "source": [
    "### FIG: USA standing out as an outlier when plot showing the number of mass shootings against the number of civilian firearms with errorbars is used."
   ]
  },
  {
   "cell_type": "markdown",
   "metadata": {
    "run_control": {
     "frozen": false,
     "read_only": false
    }
   },
   "source": [
    "# Modeling\n",
    "\n",
    "## fit a line to the Number of mass shootings  per person as a function of Average total all civilian firearms per person. \n",
    "Before you do it it is a good idea to make sure that both quantities are roughly of the same order of magnitude (unity). (You can simply divide by the order of magnitude of the mean of the sample to obtain this). Use\n",
    "\n",
    "    - statsmodels OLS\n",
    "    - statsmodels WLS\n",
    "    - seaborn\n",
    "    - choose one of\n",
    "        -- creating a function that calculates the residuals and minimizing that function\n",
    "        -- analytical solution http://mathworld.wolfram.com/LeastSquaresFitting.html\n",
    "        -- numpy.polyfit() - https://docs.scipy.org/doc/numpy-1.13.0/reference/generated/numpy.polyfit.html\n",
    "    \n",
    "\n",
    "WLS: that is the weighted square fit. The statsmodel package WLS function allows you to take the uncertainties of each data point into account when you fit your model. It takes the parameter weights, which is the inverse of your errors:\n",
    "weights = 1.0/df.yerror\n",
    "Notice that \n",
    "    a - sqrt(0) = 0\n",
    "    b - 1/0 = infinity\n",
    "    c - you cannot have weight that are infinity in your fit. Please come up with a solution and justify it.\n",
    "\n",
    "\n",
    "the latter three you can learn about in this example: https://github.com/fedhere/PUI2017_fb55/blob/master/Lab5_fb55/genderIncomeBias.ipynb\n",
    "Since we did not discuss these, I will add some notes to the repo in the afternoon.\n",
    "\n",
    "Use the seaborn python package built in regression function  to plot the regression confidence intervals. \n",
    "\n",
    "import seaborn  as sns\n",
    "sns.regplot(x=\"x\", y=\"y\", data=df);\n",
    "\n",
    "\n"
   ]
  },
  {
   "cell_type": "code",
   "execution_count": 29,
   "metadata": {
    "ExecuteTime": {
     "end_time": "2017-10-12T16:35:12.472517",
     "start_time": "2017-10-12T16:35:11.345016"
    },
    "run_control": {
     "frozen": false,
     "read_only": false
    }
   },
   "outputs": [
    {
     "name": "stderr",
     "output_type": "stream",
     "text": [
      "/usr/local/Anaconda3-5.0.0-Linux-x86_64/envs/PUI2016_Python3/lib/python3.5/site-packages/IPython/html.py:14: ShimWarning: The `IPython.html` package has been deprecated. You should import from `notebook` instead. `IPython.html.widgets` has moved to `ipywidgets`.\n",
      "  \"`IPython.html.widgets` has moved to `ipywidgets`.\", ShimWarning)\n"
     ]
    },
    {
     "data": {
      "text/plain": [
       "Text(0,0.5,'Number of mass shootings per person')"
      ]
     },
     "execution_count": 29,
     "metadata": {},
     "output_type": "execute_result"
    },
    {
     "name": "stderr",
     "output_type": "stream",
     "text": [
      "/usr/local/Anaconda3-5.0.0-Linux-x86_64/envs/PUI2016_Python3/lib/python3.5/site-packages/matplotlib/font_manager.py:1316: UserWarning: findfont: Font family ['sans-serif'] not found. Falling back to DejaVu Sans\n",
      "  (prop.get_family(), self.defaultFamily[fontext]))\n"
     ]
    },
    {
     "data": {
      "image/png": "[encoded data removed]",
      "text/plain": [
       "<matplotlib.figure.Figure at 0x7fd4e43766a0>"
      ]
     },
     "metadata": {},
     "output_type": "display_data"
    }
   ],
   "source": [
    "\n",
    "\n",
    "\n",
    "plt.plot(df_['Average total all civilian firearms']/df_['population'],df_['Number of mass shootings (1983-2013)']/df_['population'],'.b')\n",
    "pl.xlabel('Average total all civilian firearms per person')\n",
    "pl.ylabel('Number of mass shootings per person')\n"
   ]
  },
  {
   "cell_type": "markdown",
   "metadata": {},
   "source": [
    "### FIG : Default seaborn scatterplot with values in proper scale and all points visible"
   ]
  },
  {
   "cell_type": "markdown",
   "metadata": {},
   "source": [
    "### Fig: Scatterplot showing number of mass shootings per person as a function of Average total all civilian firearms per person."
   ]
  },
  {
   "cell_type": "code",
   "execution_count": 30,
   "metadata": {},
   "outputs": [
    {
     "data": {
      "text/plain": [
       "<matplotlib.legend.Legend at 0x7fd4e89bba58>"
      ]
     },
     "execution_count": 30,
     "metadata": {},
     "output_type": "execute_result"
    },
    {
     "name": "stderr",
     "output_type": "stream",
     "text": [
      "/usr/local/Anaconda3-5.0.0-Linux-x86_64/envs/PUI2016_Python3/lib/python3.5/site-packages/matplotlib/font_manager.py:1316: UserWarning: findfont: Font family ['sans-serif'] not found. Falling back to DejaVu Sans\n",
      "  (prop.get_family(), self.defaultFamily[fontext]))\n"
     ]
    },
    {
     "data": {
      "image/png": "[encoded data removed]",
      "text/plain": [
       "<matplotlib.figure.Figure at 0x7fd4e407d940>"
      ]
     },
     "metadata": {},
     "output_type": "display_data"
    }
   ],
   "source": [
    "lRes = sm.OLS(df_['Number of mass shootings (1983-2013)']/df_['population'], sm.add_constant(df_['Average total all civilian firearms']/df_['population'])).fit()\n",
    "\n",
    "plt.plot(df_['Average total all civilian firearms']/df_['population'], df_['Number of mass shootings (1983-2013)']/df_['population'],'.b' ,label='point')\n",
    "plt.plot(df_['Average total all civilian firearms']/df_['population'],lRes.predict(),'y',alpha=1.0,label='OLS line')\n",
    "\n",
    "\n",
    "plt.xlabel('Average total all civilian firearms per person')\n",
    "plt.ylabel('number of mass shootings per person')\n",
    "pl.legend()"
   ]
  },
  {
   "cell_type": "markdown",
   "metadata": {},
   "source": [
    "### FIG : Line fitted with OLS regression for number of mass shootings per person as a function of Average total all civilian firearms per person."
   ]
  },
  {
   "cell_type": "code",
   "execution_count": 31,
   "metadata": {},
   "outputs": [],
   "source": [
    "df_['avg_firearms_pp'] = df_['Average total all civilian firearms']/df_['population']\n",
    "df_['nms_pp'] = df_['Number of mass shootings (1983-2013)']/df_['population']"
   ]
  },
  {
   "cell_type": "code",
   "execution_count": 32,
   "metadata": {},
   "outputs": [
    {
     "data": {
      "text/plain": [
       "<matplotlib.legend.Legend at 0x7fd4e421a748>"
      ]
     },
     "execution_count": 32,
     "metadata": {},
     "output_type": "execute_result"
    },
    {
     "name": "stderr",
     "output_type": "stream",
     "text": [
      "/usr/local/Anaconda3-5.0.0-Linux-x86_64/envs/PUI2016_Python3/lib/python3.5/site-packages/matplotlib/font_manager.py:1316: UserWarning: findfont: Font family ['sans-serif'] not found. Falling back to DejaVu Sans\n",
      "  (prop.get_family(), self.defaultFamily[fontext]))\n"
     ]
    },
    {
     "data": {
      "image/png": "[encoded data removed]",
      "text/plain": [
       "<matplotlib.figure.Figure at 0x7fd4e3e57470>"
      ]
     },
     "metadata": {},
     "output_type": "display_data"
    }
   ],
   "source": [
    "beta1_np, beta0_np = np.polyfit(df_['avg_firearms_pp'] ,df_['nms_pp'] , 1) \n",
    "plt.plot(df_['avg_firearms_pp'] ,df_['nms_pp'],'.b',label='point')\n",
    "\n",
    "pl.plot(df_['avg_firearms_pp'], df_['avg_firearms_pp'] * beta1_np + beta0_np, 'k-.',\n",
    "        label=\"numpy.polyfit line: %.1f x + %.1f\"\\\n",
    "       %(beta1_np, beta0_np))\n",
    "\n",
    "plt.xlabel('Average total all civilian firearms per person')\n",
    "plt.ylabel('number of mass shootings per person')\n",
    "pl.legend()"
   ]
  },
  {
   "cell_type": "markdown",
   "metadata": {},
   "source": [
    "### FIG : Line fitted with OLS regression for number of mass shootings per person as a function of Average total all civilian firearms per person."
   ]
  },
  {
   "cell_type": "code",
   "execution_count": 33,
   "metadata": {},
   "outputs": [],
   "source": [
    "#weighted least squares (logic copied from copy from assignment 2)\n",
    "weights = (df_['nms_pp'] - df_['nms_pp'].mean())**2\n",
    "wls_model = sm.WLS(df_['nms_pp'],sm.add_constant(df_['avg_firearms_pp']),weight= 1./weights).fit()\n"
   ]
  },
  {
   "cell_type": "code",
   "execution_count": 34,
   "metadata": {},
   "outputs": [
    {
     "data": {
      "text/plain": [
       "<matplotlib.legend.Legend at 0x7fd4e403e080>"
      ]
     },
     "execution_count": 34,
     "metadata": {},
     "output_type": "execute_result"
    },
    {
     "name": "stderr",
     "output_type": "stream",
     "text": [
      "/usr/local/Anaconda3-5.0.0-Linux-x86_64/envs/PUI2016_Python3/lib/python3.5/site-packages/matplotlib/font_manager.py:1316: UserWarning: findfont: Font family ['sans-serif'] not found. Falling back to DejaVu Sans\n",
      "  (prop.get_family(), self.defaultFamily[fontext]))\n"
     ]
    },
    {
     "data": {
      "image/png": "[encoded data removed]",
      "text/plain": [
       "<matplotlib.figure.Figure at 0x7fd4e42597f0>"
      ]
     },
     "metadata": {},
     "output_type": "display_data"
    }
   ],
   "source": [
    "plt.plot(df_['Average total all civilian firearms']/df_['population'], df_['Number of mass shootings (1983-2013)']/df_['population'],'.b',label='point')\n",
    "plt.plot(df_['Average total all civilian firearms']/df_['population'],lRes.predict(),'red',alpha=0.5,label='OLS fit')\n",
    "plt.plot(df_['Average total all civilian firearms']/df_['population'],wls_model.predict(),'blue',alpha=0.3, label='WLS fit')\n",
    "pl.plot(df_['avg_firearms_pp'], df_['avg_firearms_pp'] * beta1_np + beta0_np, 'k-.',\n",
    "        label=\"numpy.polyfit line: %.1f x + %.1f\"\\\n",
    "       %(beta1_np, beta0_np),alpha=0.2)\n",
    "\n",
    "\n",
    "plt.xlabel('Average total all civilian firearms per person')\n",
    "plt.ylabel('number of mass shootings per person')\n",
    "pl.legend()\n",
    "\n"
   ]
  },
  {
   "cell_type": "markdown",
   "metadata": {},
   "source": [
    "### FIG: ALL THE FITTED LINES ARE VISUALISED TOGETHER AND ALL OF THEM SEE TO GIVE THE SAME RESULTS."
   ]
  },
  {
   "cell_type": "code",
   "execution_count": 35,
   "metadata": {},
   "outputs": [
    {
     "data": {
      "text/plain": [
       "<matplotlib.legend.Legend at 0x7fd4e404aeb8>"
      ]
     },
     "execution_count": 35,
     "metadata": {},
     "output_type": "execute_result"
    },
    {
     "name": "stderr",
     "output_type": "stream",
     "text": [
      "/usr/local/Anaconda3-5.0.0-Linux-x86_64/envs/PUI2016_Python3/lib/python3.5/site-packages/matplotlib/font_manager.py:1316: UserWarning: findfont: Font family ['sans-serif'] not found. Falling back to DejaVu Sans\n",
      "  (prop.get_family(), self.defaultFamily[fontext]))\n"
     ]
    },
    {
     "data": {
      "image/png": "[encoded data removed]",
      "text/plain": [
       "<matplotlib.figure.Figure at 0x7fd4e404aef0>"
      ]
     },
     "metadata": {},
     "output_type": "display_data"
    }
   ],
   "source": [
    "plt.errorbar(df_['Average total all civilian firearms']/df_['population'] , \n",
    "             df_['Average total all civilian firearms']/df_['population'],\n",
    "            yerr = np.sqrt(df_['Average total all civilian firearms']/df_['population']*1.0),\n",
    "            label='error bars plot',\n",
    "            fmt=\"go\",\n",
    "            linewidth=3)\n",
    "\n",
    "\n",
    "plt.plot(df_['Average total all civilian firearms']/df_['population'],lRes.predict(),'red',alpha=0.5,label='OLS fit')\n",
    "plt.plot(df_['Average total all civilian firearms']/df_['population'],wls_model.predict(),'blue',alpha=0.3, label='WLS fit')\n",
    "pl.plot(df_['avg_firearms_pp'], df_['avg_firearms_pp'] * beta1_np + beta0_np, 'k-.',\n",
    "        label=\"numpy.polyfit line: %.1f x + %.1f\"\\\n",
    "       %(beta1_np, beta0_np),alpha=0.2)\n",
    "\n",
    "\n",
    "plt.xlabel('Average total all civilian firearms per person')\n",
    "plt.ylabel('number of mass shootings per person')\n",
    "pl.legend()\n"
   ]
  },
  {
   "cell_type": "markdown",
   "metadata": {},
   "source": [
    "### FIG: ALL THE FITTED LINES ARE VISUALISED TOGETHER AND ALL OF THEM SEE TO GIVE THE SAME RESULTS. THIS FIGURE ALSO CONTAINS THE ERROR BARS"
   ]
  },
  {
   "cell_type": "code",
   "execution_count": 36,
   "metadata": {},
   "outputs": [
    {
     "name": "stderr",
     "output_type": "stream",
     "text": [
      "/usr/local/Anaconda3-5.0.0-Linux-x86_64/envs/PUI2016_Python3/lib/python3.5/site-packages/matplotlib/font_manager.py:1316: UserWarning: findfont: Font family ['sans-serif'] not found. Falling back to DejaVu Sans\n",
      "  (prop.get_family(), self.defaultFamily[fontext]))\n"
     ]
    },
    {
     "data": {
      "image/png": "[encoded data removed]",
      "text/plain": [
       "<matplotlib.figure.Figure at 0x7fd4e4037eb8>"
      ]
     },
     "metadata": {},
     "output_type": "display_data"
    }
   ],
   "source": [
    "sns.regplot(x=\"avg_firearms_pp\", y=\"nms_pp\", data=df_);"
   ]
  },
  {
   "cell_type": "markdown",
   "metadata": {},
   "source": [
    "### FIG: PLOTTING THE CONFIDENCE INTERVAL REGIONS OF THE BEST FIT LINE USING SEABORN LIBRARY"
   ]
  },
  {
   "cell_type": "markdown",
   "metadata": {
    "run_control": {
     "frozen": false,
     "read_only": false
    }
   },
   "source": [
    "## Outlier removal:\n",
    "The concept of outlier is actually rather sophisticated: a point can be an outlier in a context but not in another. If you want to remove outliers and try different fits, here is some info on how to remove data efficiently from a dataset \n",
    "    https://gist.github.com/fedhere/89db40a3c9a28335bf5a35d52a52c595"
   ]
  },
  {
   "cell_type": "markdown",
   "metadata": {
    "ExecuteTime": {
     "end_time": "2017-10-12T16:21:08.019663",
     "start_time": "2017-10-12T16:21:08.010876"
    },
    "run_control": {
     "frozen": false,
     "read_only": false
    }
   },
   "source": [
    "## Extra credit: calculate the confidence interval by hand and also plot them \n",
    "you can use pylab.fill_between(x, yfit - ci, yfit + ci, alpha=0.5)"
   ]
  },
  {
   "cell_type": "markdown",
   "metadata": {
    "run_control": {
     "frozen": false,
     "read_only": false
    }
   },
   "source": [
    "**Confidence intervals: **\n",
    "there are three type of intervals in a linear regression, plot any one of them all three if you want - how do they compare to the seaborn plot?:\n",
    "\n",
    "1) Confidence intervals for the parameters slope and intercept\n",
    "\n",
    "2) Confidence interval for the average y value\n",
    "\n",
    "3) Prediction interval for a single y value"
   ]
  },
  {
   "cell_type": "markdown",
   "metadata": {
    "run_control": {
     "frozen": false,
     "read_only": false
    }
   },
   "source": [
    "1) __confidence interval of the  model parameters slope and intercept:__\n",
    "define sigma as the sum of the residuals over the square root of number n of observations. \n",
    "\n",
    "sigma: σ̂ =sqrt(Sum((Yoberved_i−Ypredicted_i)^2)/n)\n",
    "\n",
    "where the sum is over all observations\n",
    "\n",
    "Define t_alpha/2,n-2 the t statistics at (1-alpha/2) for a t distribution with n-2 degrees of freedom (you can calculate it with scipy\n",
    "tp = sp.stats.t.ppf(0.975, n-2)\n",
    "\n"
   ]
  },
  {
   "cell_type": "code",
   "execution_count": 37,
   "metadata": {},
   "outputs": [],
   "source": [
    "lRes = sm.OLS(df_['Number of mass shootings (1983-2013)']/df_['population'], sm.add_constant(df_['Average total all civilian firearms']/df_['population'])).fit()\n",
    "\n"
   ]
  },
  {
   "cell_type": "code",
   "execution_count": 41,
   "metadata": {},
   "outputs": [],
   "source": [
    "y_hat = wls_model.predict()\n",
    "\n",
    "x = sm.add_constant(df_['Average total all civilian firearms']/df_['population'])\n",
    "x_pred = np.linspace(x[None].min(), x[None].max(), 23)\n",
    "y_err = df_['Number of mass shootings (1983-2013)']/df_['population'] - y_hat\n",
    "x_pred2 = sm.add_constant(x_pred)\n",
    "mean_x = df_['Average total all civilian firearms']/df_['population'].mean()\n",
    "\n",
    "dof = df_['Average total all civilian firearms'].shape[0] - 2\n",
    "\n",
    "n = df_['Average total all civilian firearms'].shape[0]\n",
    "\n",
    "\n",
    "t = stats.t.ppf(1-0.025, df=dof)\n",
    "\n",
    "s_err = np.sum(np.power(y_err, 2))\n",
    "y_pred2 = lRes.predict(x_pred2)\n",
    "\n",
    "conf = t * np.sqrt((s_err/(n-2))*(1.0/n + (np.power((x_pred-mean_x),2) /  ((np.sum(np.power(x_pred,2))) - n*(np.power(mean_x,2))))))\n"
   ]
  },
  {
   "cell_type": "code",
   "execution_count": 42,
   "metadata": {},
   "outputs": [
    {
     "data": {
      "text/plain": [
       "<matplotlib.legend.Legend at 0x7fd4e3fefd68>"
      ]
     },
     "execution_count": 42,
     "metadata": {},
     "output_type": "execute_result"
    },
    {
     "name": "stderr",
     "output_type": "stream",
     "text": [
      "/usr/local/Anaconda3-5.0.0-Linux-x86_64/envs/PUI2016_Python3/lib/python3.5/site-packages/matplotlib/font_manager.py:1316: UserWarning: findfont: Font family ['sans-serif'] not found. Falling back to DejaVu Sans\n",
      "  (prop.get_family(), self.defaultFamily[fontext]))\n"
     ]
    },
    {
     "data": {
      "image/png": "[encoded data removed]",
      "text/plain": [
       "<matplotlib.figure.Figure at 0x7fd4e3fefe48>"
      ]
     },
     "metadata": {},
     "output_type": "display_data"
    }
   ],
   "source": [
    "plt.plot(df_['Average total all civilian firearms']/df_['population'], df_['Number of mass shootings (1983-2013)']/df_['population'],'.b')\n",
    "plt.plot(df_['Average total all civilian firearms']/df_['population'],lRes.predict(),'y',alpha=1.0,label='OLS line')\n",
    "\n",
    "\n",
    "upper = y_pred2 + abs(conf)\n",
    "lower = y_pred2 - abs(conf)\n",
    "pylab.fill_between(x_pred, lower, upper, color='#888888', alpha=0.4)\n",
    "plt.xlabel('Average total all civilian firearms per person')\n",
    "plt.ylabel('number of mass shootings per person')\n",
    "pl.legend()\n"
   ]
  },
  {
   "cell_type": "markdown",
   "metadata": {},
   "source": [
    "### FIGURE : MANUALLY CALCULATING THE CONFIDENCE INTERVAL REGION AND PLOTTING THEM AS SHOWN/"
   ]
  },
  {
   "cell_type": "markdown",
   "metadata": {
    "run_control": {
     "frozen": false,
     "read_only": false
    }
   },
   "source": [
    "## Use the statsmodels.gaphics package to plot the influence plot. \n",
    "Read the package documentation to learn how to read this plot and extract the countries with the highest influence\n",
    "\n",
    "This is the topic of this week's assigned reading, so make sure you do the reading before you do this step. It will help you interpret the plot."
   ]
  },
  {
   "cell_type": "code",
   "execution_count": 43,
   "metadata": {},
   "outputs": [
    {
     "data": {
      "text/html": [
       "<div>\n",
       "<table border=\"1\" class=\"dataframe\">\n",
       "  <thead>\n",
       "    <tr style=\"text-align: right;\">\n",
       "      <th></th>\n",
       "      <th>Number of homicides by firearm</th>\n",
       "      <th>Average total all civilian firearms</th>\n",
       "      <th>Guns per 100 inhabitants</th>\n",
       "      <th>Number of mass shootings (1983-2013)</th>\n",
       "      <th>Country Name</th>\n",
       "      <th>gdp</th>\n",
       "      <th>population</th>\n",
       "      <th>shootingspp</th>\n",
       "      <th>avg_firearms_pp</th>\n",
       "      <th>nms_pp</th>\n",
       "    </tr>\n",
       "    <tr>\n",
       "      <th>Country</th>\n",
       "      <th></th>\n",
       "      <th></th>\n",
       "      <th></th>\n",
       "      <th></th>\n",
       "      <th></th>\n",
       "      <th></th>\n",
       "      <th></th>\n",
       "      <th></th>\n",
       "      <th></th>\n",
       "      <th></th>\n",
       "    </tr>\n",
       "  </thead>\n",
       "  <tbody>\n",
       "    <tr>\n",
       "      <th>Australia</th>\n",
       "      <td>30.0</td>\n",
       "      <td>3050000.0</td>\n",
       "      <td>15.0</td>\n",
       "      <td>4.0</td>\n",
       "      <td>Australia</td>\n",
       "      <td>1.543411e+12</td>\n",
       "      <td>22742475.0</td>\n",
       "      <td>134.110294</td>\n",
       "      <td>0.134110</td>\n",
       "      <td>1.758824e-07</td>\n",
       "    </tr>\n",
       "    <tr>\n",
       "      <th>Austria</th>\n",
       "      <td>18.0</td>\n",
       "      <td>2500000.0</td>\n",
       "      <td>30.4</td>\n",
       "      <td>1.0</td>\n",
       "      <td>Austria</td>\n",
       "      <td>4.094252e+11</td>\n",
       "      <td>8429991.0</td>\n",
       "      <td>296.560222</td>\n",
       "      <td>0.296560</td>\n",
       "      <td>1.186241e-07</td>\n",
       "    </tr>\n",
       "    <tr>\n",
       "      <th>Belgium</th>\n",
       "      <td>70.0</td>\n",
       "      <td>1800000.0</td>\n",
       "      <td>17.2</td>\n",
       "      <td>2.0</td>\n",
       "      <td>Belgium</td>\n",
       "      <td>4.978842e+11</td>\n",
       "      <td>11128246.0</td>\n",
       "      <td>161.750558</td>\n",
       "      <td>0.161751</td>\n",
       "      <td>1.797228e-07</td>\n",
       "    </tr>\n",
       "    <tr>\n",
       "      <th>Canada</th>\n",
       "      <td>173.0</td>\n",
       "      <td>9950000.0</td>\n",
       "      <td>30.8</td>\n",
       "      <td>4.0</td>\n",
       "      <td>Canada</td>\n",
       "      <td>1.824289e+12</td>\n",
       "      <td>34750545.0</td>\n",
       "      <td>286.326445</td>\n",
       "      <td>0.286326</td>\n",
       "      <td>1.151061e-07</td>\n",
       "    </tr>\n",
       "    <tr>\n",
       "      <th>Denmark</th>\n",
       "      <td>15.0</td>\n",
       "      <td>650000.0</td>\n",
       "      <td>12.0</td>\n",
       "      <td>0.0</td>\n",
       "      <td>Denmark</td>\n",
       "      <td>3.271489e+11</td>\n",
       "      <td>5591572.0</td>\n",
       "      <td>116.246379</td>\n",
       "      <td>0.116246</td>\n",
       "      <td>0.000000e+00</td>\n",
       "    </tr>\n",
       "  </tbody>\n",
       "</table>\n",
       "</div>"
      ],
      "text/plain": [
       "           Number of homicides by firearm  \\\n",
       "Country                                     \n",
       "Australia                            30.0   \n",
       "Austria                              18.0   \n",
       "Belgium                              70.0   \n",
       "Canada                              173.0   \n",
       "Denmark                              15.0   \n",
       "\n",
       "           Average total all civilian firearms  Guns per 100 inhabitants  \\\n",
       "Country                                                                    \n",
       "Australia                            3050000.0                      15.0   \n",
       "Austria                              2500000.0                      30.4   \n",
       "Belgium                              1800000.0                      17.2   \n",
       "Canada                               9950000.0                      30.8   \n",
       "Denmark                               650000.0                      12.0   \n",
       "\n",
       "           Number of mass shootings (1983-2013) Country Name           gdp  \\\n",
       "Country                                                                      \n",
       "Australia                                   4.0    Australia  1.543411e+12   \n",
       "Austria                                     1.0      Austria  4.094252e+11   \n",
       "Belgium                                     2.0      Belgium  4.978842e+11   \n",
       "Canada                                      4.0       Canada  1.824289e+12   \n",
       "Denmark                                     0.0      Denmark  3.271489e+11   \n",
       "\n",
       "           population  shootingspp  avg_firearms_pp        nms_pp  \n",
       "Country                                                            \n",
       "Australia  22742475.0   134.110294         0.134110  1.758824e-07  \n",
       "Austria     8429991.0   296.560222         0.296560  1.186241e-07  \n",
       "Belgium    11128246.0   161.750558         0.161751  1.797228e-07  \n",
       "Canada     34750545.0   286.326445         0.286326  1.151061e-07  \n",
       "Denmark     5591572.0   116.246379         0.116246  0.000000e+00  "
      ]
     },
     "execution_count": 43,
     "metadata": {},
     "output_type": "execute_result"
    }
   ],
   "source": [
    "country_index = df_.set_index('Country')\n",
    "country_index.head()"
   ]
  },
  {
   "cell_type": "code",
   "execution_count": 44,
   "metadata": {
    "ExecuteTime": {
     "end_time": "2017-10-11T07:46:21.766085",
     "start_time": "2017-10-11T07:46:21.412498"
    },
    "run_control": {
     "frozen": false,
     "read_only": false
    }
   },
   "outputs": [
    {
     "name": "stderr",
     "output_type": "stream",
     "text": [
      "/usr/local/Anaconda3-5.0.0-Linux-x86_64/envs/PUI2016_Python3/lib/python3.5/site-packages/matplotlib/font_manager.py:1316: UserWarning: findfont: Font family ['sans-serif'] not found. Falling back to DejaVu Sans\n",
      "  (prop.get_family(), self.defaultFamily[fontext]))\n"
     ]
    },
    {
     "data": {
      "image/png": "[encoded data removed]",
      "text/plain": [
       "<matplotlib.figure.Figure at 0x7fd4e4076e80>"
      ]
     },
     "execution_count": 44,
     "metadata": {},
     "output_type": "execute_result"
    },
    {
     "data": {
      "image/png": "[encoded data removed]",
      "text/plain": [
       "<matplotlib.figure.Figure at 0x7fd4e4076e80>"
      ]
     },
     "metadata": {},
     "output_type": "display_data"
    }
   ],
   "source": [
    "weights = (country_index['nms_pp'] - country_index['nms_pp'].mean())**2\n",
    "lRes1 = sm.OLS(country_index['nms_pp'],sm.add_constant(country_index['avg_firearms_pp']),weight= 1./weights).fit()\n",
    "\n",
    "\n",
    "sm.graphics.influence_plot(lRes1, alpha  = 0.05, criterion=\"cooks\")"
   ]
  },
  {
   "cell_type": "markdown",
   "metadata": {},
   "source": [
    "### FIG: PLOT SHOWING THE INFUENCE OF VARIOUS COUNTRIES. ALTHOUGH THEY LOOK LIKE OUTLIERS THEIR VALUES USUALLY INFLUENCE THE BEST FIT LINE FOR REGRESSION. HERE NEW ZEALAND AND USA SEEM TO INFLUENCE THE PLOT THE MOST"
   ]
  },
  {
   "cell_type": "markdown",
   "metadata": {
    "run_control": {
     "frozen": false,
     "read_only": false
    }
   },
   "source": [
    "## Extra credit: calculate from scratch the stanrdardized residuals and the H leverage for the WLS model and discuss if there are any differences"
   ]
  },
  {
   "cell_type": "markdown",
   "metadata": {
    "run_control": {
     "frozen": false,
     "read_only": false
    }
   },
   "source": [
    "## Discuss your findings"
   ]
  },
  {
   "cell_type": "code",
   "execution_count": 51,
   "metadata": {},
   "outputs": [],
   "source": [
    "#calculation of h leverage matrix\n",
    "#not sure if its right\n",
    "\n",
    "matrix_f = np.array(df_['avg_firearms_pp'])\n"
   ]
  },
  {
   "cell_type": "code",
   "execution_count": 46,
   "metadata": {},
   "outputs": [],
   "source": [
    "matrix_fr = matrix_f.reshape((df_['avg_firearms_pp'].shape[0],1))"
   ]
  },
  {
   "cell_type": "code",
   "execution_count": 47,
   "metadata": {},
   "outputs": [
    {
     "data": {
      "text/plain": [
       "1.9203068414588103"
      ]
     },
     "execution_count": 47,
     "metadata": {},
     "output_type": "execute_result"
    }
   ],
   "source": [
    "mat_prod = np.matmul(matrix_f.transpose(),matrix_f)\n",
    "mat_prod"
   ]
  },
  {
   "cell_type": "code",
   "execution_count": 49,
   "metadata": {},
   "outputs": [],
   "source": [
    "hat = matrix_fr.dot(np.linalg.inv(matrix_fr.T.dot(matrix_fr)).dot(matrix_fr.T))"
   ]
  },
  {
   "cell_type": "code",
   "execution_count": 50,
   "metadata": {},
   "outputs": [
    {
     "data": {
      "text/plain": [
       "array([[  9.36598801e-03,   2.07111580e-02,   1.12963274e-02,\n",
       "          1.99964520e-02,   8.11840886e-03,   3.09589912e-02,\n",
       "          2.02090362e-02,   2.17088081e-02,   1.58075782e-02,\n",
       "          3.94232107e-03,   1.95980728e-02,   5.46613365e-03,\n",
       "          8.21074866e-03,   3.88508448e-04,   9.20744580e-03,\n",
       "          1.46548635e-02,   1.94822573e-02,   9.35743403e-04,\n",
       "          5.97765932e-03,   6.71905600e-03,   2.05419244e-02,\n",
       "          2.96927796e-02,   6.00530274e-02],\n",
       "       [  2.07111580e-02,   4.57989126e-02,   2.49797482e-02,\n",
       "          4.42184718e-02,   1.79523664e-02,   6.84601088e-02,\n",
       "          4.46885627e-02,   4.80050320e-02,   3.49555488e-02,\n",
       "          8.71771718e-03,   4.33375296e-02,   1.20873481e-02,\n",
       "          1.81565589e-02,   8.59114899e-04,   2.03605711e-02,\n",
       "          3.24065324e-02,   4.30814248e-02,   2.06922425e-03,\n",
       "          1.32184930e-02,   1.48579552e-02,   4.54246835e-02,\n",
       "          6.56601149e-02,   1.32796213e-01],\n",
       "       [  1.12963274e-02,   2.49797482e-02,   1.36245117e-02,\n",
       "          2.41177406e-02,   9.79162097e-03,   3.73396700e-02,\n",
       "          2.43741386e-02,   2.61830149e-02,   1.90655358e-02,\n",
       "          4.75483735e-03,   2.36372550e-02,   6.59270920e-03,\n",
       "          9.90299209e-03,   4.68580424e-04,   1.11051095e-02,\n",
       "          1.76752454e-02,   2.34975698e-02,   1.12860105e-03,\n",
       "          7.20966082e-03,   8.10386010e-03,   2.47756353e-02,\n",
       "          3.58124908e-02,   7.24300158e-02],\n",
       "       [  1.99964520e-02,   4.42184718e-02,   2.41177406e-02,\n",
       "          4.26925693e-02,   1.73328615e-02,   6.60976696e-02,\n",
       "          4.31464382e-02,   4.63484619e-02,   3.37492936e-02,\n",
       "          8.41688393e-03,   4.18420269e-02,   1.16702348e-02,\n",
       "          1.75300076e-02,   8.29468339e-04,   1.96579632e-02,\n",
       "          3.12882394e-02,   4.15947599e-02,   1.99781892e-03,\n",
       "          1.27623458e-02,   1.43452331e-02,   4.38571567e-02,\n",
       "          6.33942986e-02,   1.28213647e-01],\n",
       "       [  8.11840886e-03,   1.79523664e-02,   9.79162097e-03,\n",
       "          1.73328615e-02,   7.03701118e-03,   2.68351559e-02,\n",
       "          1.75171288e-02,   1.88171263e-02,   1.37019589e-02,\n",
       "          3.41719146e-03,   1.69875477e-02,   4.73802740e-03,\n",
       "          7.11705103e-03,   3.36757897e-04,   7.98098497e-03,\n",
       "          1.27027895e-02,   1.68871591e-02,   8.11099429e-04,\n",
       "          5.18141624e-03,   5.82405654e-03,   1.78056752e-02,\n",
       "          2.57376076e-02,   5.20537747e-02],\n",
       "       [  3.09589912e-02,   6.84601088e-02,   3.73396700e-02,\n",
       "          6.60976696e-02,   2.68351559e-02,   1.02334013e-01,\n",
       "          6.68003604e-02,   7.17578111e-02,   5.22514736e-02,\n",
       "          1.30312235e-02,   6.47808393e-02,   1.80681401e-02,\n",
       "          2.71403823e-02,   1.28420297e-03,   3.04349347e-02,\n",
       "          4.84412099e-02,   6.43980145e-02,   3.09307163e-03,\n",
       "          1.97589728e-02,   2.22096372e-02,   6.79007121e-02,\n",
       "          9.81485883e-02,   1.98503473e-01],\n",
       "       [  2.02090362e-02,   4.46885627e-02,   2.43741386e-02,\n",
       "          4.31464382e-02,   1.75171288e-02,   6.68003604e-02,\n",
       "          4.36051322e-02,   4.68411969e-02,   3.41080857e-02,\n",
       "          8.50636465e-03,   4.22868536e-02,   1.17943022e-02,\n",
       "          1.77163709e-02,   8.38286498e-04,   1.98669489e-02,\n",
       "          3.16208677e-02,   4.20369578e-02,   2.01905793e-03,\n",
       "          1.28980235e-02,   1.44977386e-02,   4.43234065e-02,\n",
       "          6.40682496e-02,   1.29576699e-01],\n",
       "       [  2.17088081e-02,   4.80050320e-02,   2.61830149e-02,\n",
       "          4.63484619e-02,   1.88171263e-02,   7.17578111e-02,\n",
       "          4.68411969e-02,   5.03174195e-02,   3.66393467e-02,\n",
       "          9.13764692e-03,   4.54250850e-02,   1.26695919e-02,\n",
       "          1.90311547e-02,   9.00498198e-04,   2.13413335e-02,\n",
       "          3.39675451e-02,   4.51566437e-02,   2.16889814e-03,\n",
       "          1.38552237e-02,   1.55736583e-02,   4.76127764e-02,\n",
       "          6.88229423e-02,   1.39192965e-01],\n",
       "       [  1.58075782e-02,   3.49555488e-02,   1.90655358e-02,\n",
       "          3.37492936e-02,   1.37019589e-02,   5.22514736e-02,\n",
       "          3.41080857e-02,   3.66393467e-02,   2.66794629e-02,\n",
       "          6.65370794e-03,   3.30769236e-02,   9.22554408e-03,\n",
       "          1.38578068e-02,   6.55710607e-04,   1.55399964e-02,\n",
       "          2.47339524e-02,   3.28814542e-02,   1.57931411e-03,\n",
       "          1.00888787e-02,   1.13401814e-02,   3.46699223e-02,\n",
       "          5.01144071e-02,   1.01355343e-01],\n",
       "       [  3.94232107e-03,   8.71771718e-03,   4.75483735e-03,\n",
       "          8.41688393e-03,   3.41719146e-03,   1.30312235e-02,\n",
       "          8.50636465e-03,   9.13764692e-03,   6.65370794e-03,\n",
       "          1.65939732e-03,   8.24919862e-03,   2.30079879e-03,\n",
       "          3.45605903e-03,   1.63530536e-04,   3.87558766e-03,\n",
       "          6.16850857e-03,   8.20044967e-03,   3.93872054e-04,\n",
       "          2.51610959e-03,   2.82817745e-03,   8.64648354e-03,\n",
       "          1.24982512e-02,   2.52774523e-02],\n",
       "       [  1.95980728e-02,   4.33375296e-02,   2.36372550e-02,\n",
       "          4.18420269e-02,   1.69875477e-02,   6.47808393e-02,\n",
       "          4.22868536e-02,   4.54250850e-02,   3.30769236e-02,\n",
       "          8.24919862e-03,   4.10084294e-02,   1.14377346e-02,\n",
       "          1.71807662e-02,   8.12943262e-04,   1.92663276e-02,\n",
       "          3.06648997e-02,   4.07660885e-02,   1.95801738e-03,\n",
       "          1.25080880e-02,   1.40594402e-02,   4.29834128e-02,\n",
       "          6.21313261e-02,   1.25659311e-01],\n",
       "       [  5.46613365e-03,   1.20873481e-02,   6.59270920e-03,\n",
       "          1.16702348e-02,   4.73802740e-03,   1.80681401e-02,\n",
       "          1.17943022e-02,   1.26695919e-02,   9.22554408e-03,\n",
       "          2.30079879e-03,   1.14377346e-02,   3.19011908e-03,\n",
       "          4.79191832e-03,   2.26739464e-04,   5.37360599e-03,\n",
       "          8.55280218e-03,   1.13701429e-02,   5.46114141e-04,\n",
       "          3.48865327e-03,   3.92134370e-03,   1.19885808e-02,\n",
       "          1.73291596e-02,   3.50478639e-02],\n",
       "       [  8.21074866e-03,   1.81565589e-02,   9.90299209e-03,\n",
       "          1.75300076e-02,   7.11705103e-03,   2.71403823e-02,\n",
       "          1.77163709e-02,   1.90311547e-02,   1.38578068e-02,\n",
       "          3.45605903e-03,   1.71807662e-02,   4.79191832e-03,\n",
       "          7.19800127e-03,   3.40588223e-04,   8.07176169e-03,\n",
       "          1.28472726e-02,   1.70792358e-02,   8.20324976e-04,\n",
       "          5.24035032e-03,   5.89030010e-03,   1.80081992e-02,\n",
       "          2.60303504e-02,   5.26458408e-02],\n",
       "       [  3.88508448e-04,   8.59114899e-04,   4.68580424e-04,\n",
       "          8.29468339e-04,   3.36757897e-04,   1.28420297e-03,\n",
       "          8.38286498e-04,   9.00498198e-04,   6.55710607e-04,\n",
       "          1.63530536e-04,   8.12943262e-04,   2.26739464e-04,\n",
       "          3.40588223e-04,   1.61156318e-05,   3.81931994e-04,\n",
       "          6.07895107e-04,   8.08139143e-04,   3.88153622e-05,\n",
       "          2.47957945e-04,   2.78711655e-04,   8.52094956e-04,\n",
       "          1.23167953e-03,   2.49104616e-03],\n",
       "       [  9.20744580e-03,   2.03605711e-02,   1.11051095e-02,\n",
       "          1.96579632e-02,   7.98098497e-03,   3.04349347e-02,\n",
       "          1.98669489e-02,   2.13413335e-02,   1.55399964e-02,\n",
       "          3.87558766e-03,   1.92663276e-02,   5.37360599e-03,\n",
       "          8.07176169e-03,   3.81931994e-04,   9.05158730e-03,\n",
       "          1.44067942e-02,   1.91524725e-02,   9.19903661e-04,\n",
       "          5.87647284e-03,   6.60531958e-03,   2.01942021e-02,\n",
       "          2.91901568e-02,   5.90364833e-02],\n",
       "       [  1.46548635e-02,   3.24065324e-02,   1.76752454e-02,\n",
       "          3.12882394e-02,   1.27027895e-02,   4.84412099e-02,\n",
       "          3.16208677e-02,   3.39675451e-02,   2.47339524e-02,\n",
       "          6.16850857e-03,   3.06648997e-02,   8.55280218e-03,\n",
       "          1.28472726e-02,   6.07895107e-04,   1.44067942e-02,\n",
       "          2.29303118e-02,   3.04836843e-02,   1.46414792e-03,\n",
       "          9.35318105e-03,   1.05132367e-02,   3.21417343e-02,\n",
       "          4.64599818e-02,   9.39643442e-02],\n",
       "       [  1.94822573e-02,   4.30814248e-02,   2.34975698e-02,\n",
       "          4.15947599e-02,   1.68871591e-02,   6.43980145e-02,\n",
       "          4.20369578e-02,   4.51566437e-02,   3.28814542e-02,\n",
       "          8.20044967e-03,   4.07660885e-02,   1.13701429e-02,\n",
       "          1.70792358e-02,   8.08139143e-04,   1.91524725e-02,\n",
       "          3.04836843e-02,   4.05251798e-02,   1.94644641e-03,\n",
       "          1.24341710e-02,   1.39763555e-02,   4.27294008e-02,\n",
       "          6.17641587e-02,   1.24916723e-01],\n",
       "       [  9.35743403e-04,   2.06922425e-03,   1.12860105e-03,\n",
       "          1.99781892e-03,   8.11099429e-04,   3.09307163e-03,\n",
       "          2.01905793e-03,   2.16889814e-03,   1.57931411e-03,\n",
       "          3.93872054e-04,   1.95801738e-03,   5.46114141e-04,\n",
       "          8.20324976e-04,   3.88153622e-05,   9.19903661e-04,\n",
       "          1.46414792e-03,   1.94644641e-03,   9.34888786e-05,\n",
       "          5.97219991e-04,   6.71291947e-04,   2.05231634e-03,\n",
       "          2.96656611e-03,   5.99981808e-03],\n",
       "       [  5.97765932e-03,   1.32184930e-02,   7.20966082e-03,\n",
       "          1.27623458e-02,   5.18141624e-03,   1.97589728e-02,\n",
       "          1.28980235e-02,   1.38552237e-02,   1.00888787e-02,\n",
       "          2.51610959e-03,   1.25080880e-02,   3.48865327e-03,\n",
       "          5.24035032e-03,   2.47957945e-04,   5.87647284e-03,\n",
       "          9.35318105e-03,   1.24341710e-02,   5.97219991e-04,\n",
       "          3.81512456e-03,   4.28830655e-03,   1.31104829e-02,\n",
       "          1.89508379e-02,   3.83276744e-02],\n",
       "       [  6.71905600e-03,   1.48579552e-02,   8.10386010e-03,\n",
       "          1.43452331e-02,   5.82405654e-03,   2.22096372e-02,\n",
       "          1.44977386e-02,   1.55736583e-02,   1.13401814e-02,\n",
       "          2.82817745e-03,   1.40594402e-02,   3.92134370e-03,\n",
       "          5.89030010e-03,   2.78711655e-04,   6.60531958e-03,\n",
       "          1.05132367e-02,   1.39763555e-02,   6.71291947e-04,\n",
       "          4.28830655e-03,   4.82017632e-03,   1.47365489e-02,\n",
       "          2.13012710e-02,   4.30813763e-02],\n",
       "       [  2.05419244e-02,   4.54246835e-02,   2.47756353e-02,\n",
       "          4.38571567e-02,   1.78056752e-02,   6.79007121e-02,\n",
       "          4.43234065e-02,   4.76127764e-02,   3.46699223e-02,\n",
       "          8.64648354e-03,   4.29834128e-02,   1.19885808e-02,\n",
       "          1.80081992e-02,   8.52094956e-04,   2.01942021e-02,\n",
       "          3.21417343e-02,   4.27294008e-02,   2.05231634e-03,\n",
       "          1.31104829e-02,   1.47365489e-02,   4.50535123e-02,\n",
       "          6.51235973e-02,   1.31711117e-01],\n",
       "       [  2.96927796e-02,   6.56601149e-02,   3.58124908e-02,\n",
       "          6.33942986e-02,   2.57376076e-02,   9.81485883e-02,\n",
       "          6.40682496e-02,   6.88229423e-02,   5.01144071e-02,\n",
       "          1.24982512e-02,   6.21313261e-02,   1.73291596e-02,\n",
       "          2.60303504e-02,   1.23167953e-03,   2.91901568e-02,\n",
       "          4.64599818e-02,   6.17641587e-02,   2.96656611e-03,\n",
       "          1.89508379e-02,   2.13012710e-02,   6.51235973e-02,\n",
       "          9.41343462e-02,   1.90384752e-01],\n",
       "       [  6.00530274e-02,   1.32796213e-01,   7.24300158e-02,\n",
       "          1.28213647e-01,   5.20537747e-02,   1.98503473e-01,\n",
       "          1.29576699e-01,   1.39192965e-01,   1.01355343e-01,\n",
       "          2.52774523e-02,   1.25659311e-01,   3.50478639e-02,\n",
       "          5.26458408e-02,   2.49104616e-03,   5.90364833e-02,\n",
       "          9.39643442e-02,   1.24916723e-01,   5.99981808e-03,\n",
       "          3.83276744e-02,   4.30813763e-02,   1.31711117e-01,\n",
       "          1.90384752e-01,   3.85049190e-01]])"
      ]
     },
     "execution_count": 50,
     "metadata": {},
     "output_type": "execute_result"
    }
   ],
   "source": [
    "hat"
   ]
  },
  {
   "cell_type": "markdown",
   "metadata": {},
   "source": [
    "### calculation of the studentisized t- residual:\n",
    "\n",
    "\n",
    "As per wikipedia:\n",
    "    \n",
    "    \n",
    "In statistics, a studentized residual is the quotient resulting from the division of a residual by an estimate of its standard deviation. "
   ]
  }
 ],
 "metadata": {
  "anaconda-cloud": {},
  "kernelspec": {
   "display_name": "PUI2016_Python3",
   "language": "python",
   "name": "pui2016_python3"
  },
  "language_info": {
   "codemirror_mode": {
    "name": "ipython",
    "version": 3
   },
   "file_extension": ".py",
   "mimetype": "text/x-python",
   "name": "python",
   "nbconvert_exporter": "python",
   "pygments_lexer": "ipython3",
   "version": "3.5.4"
  },
  "latex_envs": {
   "LaTeX_envs_menu_present": true,
   "bibliofile": "biblio.bib",
   "cite_by": "apalike",
   "current_citInitial": 1,
   "eqLabelWithNumbers": true,
   "eqNumInitial": 1,
   "hotkeys": {
    "equation": "Ctrl-E",
    "itemize": "Ctrl-I"
   },
   "labels_anchors": false,
   "latex_user_defs": false,
   "report_style_numbering": false,
   "user_envs_cfg": false
  },
  "toc": {
   "colors": {
    "hover_highlight": "#DAA520",
    "running_highlight": "#FF0000",
    "selected_highlight": "#FFD700"
   },
   "moveMenuLeft": true,
   "nav_menu": {
    "height": "13px",
    "width": "251px"
   },
   "navigate_menu": true,
   "number_sections": true,
   "sideBar": true,
   "threshold": 4,
   "toc_cell": true,
   "toc_section_display": "block",
   "toc_window_display": true
  }
 },
 "nbformat": 4,
 "nbformat_minor": 1
}
