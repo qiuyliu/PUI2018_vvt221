{
 "cells": [
  {
   "cell_type": "markdown",
   "metadata": {
    "run_control": {
     "frozen": false,
     "read_only": false
    }
   },
   "source": [
    "**exercises with statsmodels OLS and WLS**\n",
    "*created by fbb November 2018*\n"
   ]
  },
  {
   "cell_type": "code",
   "execution_count": 1,
   "metadata": {
    "ExecuteTime": {
     "end_time": "2018-11-08T18:05:35.078740Z",
     "start_time": "2018-11-08T18:05:35.037891Z"
    },
    "run_control": {
     "frozen": false,
     "read_only": false
    }
   },
   "outputs": [
    {
     "name": "stdout",
     "output_type": "stream",
     "text": [
      "Populating the interactive namespace from numpy and matplotlib\n"
     ]
    }
   ],
   "source": [
    "from __future__ import print_function, division\n",
    "import pylab as pl\n",
    "\n",
    "import os\n",
    "import json\n",
    "\n",
    "import statsmodels.api as sm\n",
    "import statsmodels.formula.api as smf\n",
    "#s = json.load( open(os.getenv('PUI2018')+\"/fbb_matplotlibrc.json\") )\n",
    "#pl.rcParams.update(s)\n",
    "\n",
    "%pylab inline"
   ]
  },
  {
   "cell_type": "markdown",
   "metadata": {
    "run_control": {
     "frozen": false,
     "read_only": false
    }
   },
   "source": [
    "# 1. create a line with a chosen slope and intercept = 0 and plot it with uncertainties as errorbars\n",
    "\n",
    "use the functions created above"
   ]
  },
  {
   "cell_type": "code",
   "execution_count": 17,
   "metadata": {
    "ExecuteTime": {
     "end_time": "2018-11-08T18:05:47.132879Z",
     "start_time": "2018-11-08T18:05:46.952667Z"
    },
    "run_control": {
     "frozen": false,
     "read_only": false
    }
   },
   "outputs": [],
   "source": [
    "def errors(x):\n",
    "    return np.sqrt(x)\n",
    "\n",
    "np.random.seed(10)    \n",
    "\n",
    "def line(a, x, b=0, errors=None):\n",
    "    '''\n",
    "    creates a line from parameters and exogenous variable\n",
    "    a: slope\n",
    "    x: exogenous variable\n",
    "    b: intercept - default 0\n",
    "    errors: add uncertainties (sqrt(N) - default True)\n",
    "    '''\n",
    "    np.random.randn(123)\n",
    "    if errors is None:\n",
    "        return a*x + b \n",
    "    else:\n",
    "        return a*x + b + np.random.randn(len(x)) * errors(x)\n",
    "    \n",
    "\n",
    "\n",
    "x = np.random.randint(0,10,(1,100))\n",
    "line = line(2,x,5)\n"
   ]
  },
  {
   "cell_type": "code",
   "execution_count": 3,
   "metadata": {},
   "outputs": [
    {
     "data": {
      "text/plain": [
       "Text(0.5,1,'FIGURE 1: Plot showing the error values of a given line')"
      ]
     },
     "execution_count": 3,
     "metadata": {},
     "output_type": "execute_result"
    },
    {
     "data": {
      "image/png": "[encoded data removed]",
      "text/plain": [
       "<matplotlib.figure.Figure at 0x7fc590a87978>"
      ]
     },
     "metadata": {},
     "output_type": "display_data"
    }
   ],
   "source": [
    "\n",
    "plt.errorbar(\n",
    "    x[0][:],  # X\n",
    "    line[0][:], # Y\n",
    "    yerr=np.sqrt(line[0][:])\n",
    "    ,     # Y-errors\n",
    "    label=\"Error bars plot\",\n",
    "    fmt=\"ms\", # format line like for plot()\n",
    "    linewidth=3\t# width of plot line\n",
    "    )\n",
    "\n",
    "\n",
    "plt.ylabel('exogenous')\n",
    "plt.xlabel('endogenous')\n",
    "\n",
    "plt.title('FIGURE 1: Plot showing the error values of a given line')"
   ]
  },
  {
   "cell_type": "markdown",
   "metadata": {
    "run_control": {
     "frozen": false,
     "read_only": false
    }
   },
   "source": [
    "# 2. print y, x, and the result of applying statsmodels.api.add_constant() to x"
   ]
  },
  {
   "cell_type": "markdown",
   "metadata": {
    "run_control": {
     "frozen": false,
     "read_only": false
    }
   },
   "source": [
    "# 3. use statsmodels.api.OLS to fit x and y \n",
    "- a. *the wrong way*: by passing x as exogenous variable\n",
    "- b. *the right way*: by passing statsmodels.api.add_constant(x) as exogenous variable\n",
    "\n",
    "# and print the model summary for each and discuss the differences"
   ]
  },
  {
   "cell_type": "code",
   "execution_count": 5,
   "metadata": {},
   "outputs": [],
   "source": [
    "# THE RIGHT WAY\n",
    "lRes = sm.OLS(line[0][:], sm.add_constant(x[0][:])).fit()\n"
   ]
  },
  {
   "cell_type": "code",
   "execution_count": 18,
   "metadata": {},
   "outputs": [
    {
     "name": "stdout",
     "output_type": "stream",
     "text": [
      "[[9 4 0 1 9 0 1 8 9 0 8 6 4 3 0 4 6 8 1 8 4 1 3 6 5 3 9 6 9 1 9 4 2 6 7 8 8\n",
      "  9 2 0 6 7 8 1 7 1 4 0 8 5 4 7 8 8 2 6 2 8 8 6 6 5 6 0 0 6 9 1 8 9 1 2 8 9\n",
      "  9 5 0 2 7 3 0 4 2 0 3 3 1 2 5 9 0 1 0 1 9 0 9 2 1 1]]\n",
      "[ 23.  13.   5.   7.  23.   5.   7.  21.  23.   5.  21.  17.  13.  11.   5.\n",
      "  13.  17.  21.   7.  21.  13.   7.  11.  17.  15.  11.  23.  17.  23.   7.\n",
      "  23.  13.   9.  17.  19.  21.  21.  23.   9.   5.  17.  19.  21.   7.  19.\n",
      "   7.  13.   5.  21.  15.  13.  19.  21.  21.   9.  17.   9.  21.  21.  17.\n",
      "  17.  15.  17.   5.   5.  17.  23.   7.  21.  23.   7.   9.  21.  23.  23.\n",
      "  15.   5.   9.  19.  11.   5.  13.   9.   5.  11.  11.   7.   9.  15.  23.\n",
      "   5.   7.   5.   7.  23.   5.  23.   9.   7.   7.]\n",
      "[23 13  5  7 23  5  7 21 23  5 21 17 13 11  5 13 17 21  7 21 13  7 11 17 15\n",
      " 11 23 17 23  7 23 13  9 17 19 21 21 23  9  5 17 19 21  7 19  7 13  5 21 15\n",
      " 13 19 21 21  9 17  9 21 21 17 17 15 17  5  5 17 23  7 21 23  7  9 21 23 23\n",
      " 15  5  9 19 11  5 13  9  5 11 11  7  9 15 23  5  7  5  7 23  5 23  9  7  7]\n"
     ]
    }
   ],
   "source": [
    "x_intercept = sm.add_constant(x)\n",
    "\n",
    "\n",
    "print(x)\n",
    "print(lRes.predict())\n",
    "print(line[0])"
   ]
  },
  {
   "cell_type": "code",
   "execution_count": 6,
   "metadata": {},
   "outputs": [
    {
     "data": {
      "text/html": [
       "<table class=\"simpletable\">\n",
       "<caption>OLS Regression Results</caption>\n",
       "<tr>\n",
       "  <th>Dep. Variable:</th>            <td>y</td>        <th>  R-squared:         </th> <td>   1.000</td> \n",
       "</tr>\n",
       "<tr>\n",
       "  <th>Model:</th>                   <td>OLS</td>       <th>  Adj. R-squared:    </th> <td>   1.000</td> \n",
       "</tr>\n",
       "<tr>\n",
       "  <th>Method:</th>             <td>Least Squares</td>  <th>  F-statistic:       </th> <td>1.844e+34</td>\n",
       "</tr>\n",
       "<tr>\n",
       "  <th>Date:</th>             <td>Tue, 13 Nov 2018</td> <th>  Prob (F-statistic):</th>  <td>  0.00</td>  \n",
       "</tr>\n",
       "<tr>\n",
       "  <th>Time:</th>                 <td>16:47:24</td>     <th>  Log-Likelihood:    </th> <td>  3387.5</td> \n",
       "</tr>\n",
       "<tr>\n",
       "  <th>No. Observations:</th>      <td>   100</td>      <th>  AIC:               </th> <td>  -6771.</td> \n",
       "</tr>\n",
       "<tr>\n",
       "  <th>Df Residuals:</th>          <td>    98</td>      <th>  BIC:               </th> <td>  -6766.</td> \n",
       "</tr>\n",
       "<tr>\n",
       "  <th>Df Model:</th>              <td>     1</td>      <th>                     </th>     <td> </td>    \n",
       "</tr>\n",
       "<tr>\n",
       "  <th>Covariance Type:</th>      <td>nonrobust</td>    <th>                     </th>     <td> </td>    \n",
       "</tr>\n",
       "</table>\n",
       "<table class=\"simpletable\">\n",
       "<tr>\n",
       "    <td></td>       <th>coef</th>     <th>std err</th>      <th>t</th>      <th>P>|t|</th> <th>[95.0% Conf. Int.]</th> \n",
       "</tr>\n",
       "<tr>\n",
       "  <th>const</th> <td>    5.0000</td> <td> 8.11e-17</td> <td> 6.17e+16</td> <td> 0.000</td> <td>    5.000     5.000</td>\n",
       "</tr>\n",
       "<tr>\n",
       "  <th>x1</th>    <td>    2.0000</td> <td> 1.47e-17</td> <td> 1.36e+17</td> <td> 0.000</td> <td>    2.000     2.000</td>\n",
       "</tr>\n",
       "</table>\n",
       "<table class=\"simpletable\">\n",
       "<tr>\n",
       "  <th>Omnibus:</th>       <td>30.170</td> <th>  Durbin-Watson:     </th> <td>   1.464</td>\n",
       "</tr>\n",
       "<tr>\n",
       "  <th>Prob(Omnibus):</th> <td> 0.000</td> <th>  Jarque-Bera (JB):  </th> <td>  20.509</td>\n",
       "</tr>\n",
       "<tr>\n",
       "  <th>Skew:</th>          <td> 0.980</td> <th>  Prob(JB):          </th> <td>3.52e-05</td>\n",
       "</tr>\n",
       "<tr>\n",
       "  <th>Kurtosis:</th>      <td> 1.960</td> <th>  Cond. No.          </th> <td>    9.60</td>\n",
       "</tr>\n",
       "</table>"
      ],
      "text/plain": [
       "<class 'statsmodels.iolib.summary.Summary'>\n",
       "\"\"\"\n",
       "                            OLS Regression Results                            \n",
       "==============================================================================\n",
       "Dep. Variable:                      y   R-squared:                       1.000\n",
       "Model:                            OLS   Adj. R-squared:                  1.000\n",
       "Method:                 Least Squares   F-statistic:                 1.844e+34\n",
       "Date:                Tue, 13 Nov 2018   Prob (F-statistic):               0.00\n",
       "Time:                        16:47:24   Log-Likelihood:                 3387.5\n",
       "No. Observations:                 100   AIC:                            -6771.\n",
       "Df Residuals:                      98   BIC:                            -6766.\n",
       "Df Model:                           1                                         \n",
       "Covariance Type:            nonrobust                                         \n",
       "==============================================================================\n",
       "                 coef    std err          t      P>|t|      [95.0% Conf. Int.]\n",
       "------------------------------------------------------------------------------\n",
       "const          5.0000   8.11e-17   6.17e+16      0.000         5.000     5.000\n",
       "x1             2.0000   1.47e-17   1.36e+17      0.000         2.000     2.000\n",
       "==============================================================================\n",
       "Omnibus:                       30.170   Durbin-Watson:                   1.464\n",
       "Prob(Omnibus):                  0.000   Jarque-Bera (JB):               20.509\n",
       "Skew:                           0.980   Prob(JB):                     3.52e-05\n",
       "Kurtosis:                       1.960   Cond. No.                         9.60\n",
       "==============================================================================\n",
       "\n",
       "Warnings:\n",
       "[1] Standard Errors assume that the covariance matrix of the errors is correctly specified.\n",
       "\"\"\""
      ]
     },
     "execution_count": 6,
     "metadata": {},
     "output_type": "execute_result"
    }
   ],
   "source": [
    "lRes.summary()"
   ]
  },
  {
   "cell_type": "code",
   "execution_count": 7,
   "metadata": {
    "ExecuteTime": {
     "end_time": "2018-11-08T17:14:00.771892Z",
     "start_time": "2018-11-08T17:14:00.720962Z"
    },
    "run_control": {
     "frozen": false,
     "read_only": false
    }
   },
   "outputs": [
    {
     "data": {
      "text/html": [
       "<table class=\"simpletable\">\n",
       "<caption>OLS Regression Results</caption>\n",
       "<tr>\n",
       "  <th>Dep. Variable:</th>            <td>y</td>        <th>  R-squared:         </th> <td>   0.964</td>\n",
       "</tr>\n",
       "<tr>\n",
       "  <th>Model:</th>                   <td>OLS</td>       <th>  Adj. R-squared:    </th> <td>   0.963</td>\n",
       "</tr>\n",
       "<tr>\n",
       "  <th>Method:</th>             <td>Least Squares</td>  <th>  F-statistic:       </th> <td>   2617.</td>\n",
       "</tr>\n",
       "<tr>\n",
       "  <th>Date:</th>             <td>Tue, 13 Nov 2018</td> <th>  Prob (F-statistic):</th> <td>5.17e-73</td>\n",
       "</tr>\n",
       "<tr>\n",
       "  <th>Time:</th>                 <td>16:47:24</td>     <th>  Log-Likelihood:    </th> <td> -249.35</td>\n",
       "</tr>\n",
       "<tr>\n",
       "  <th>No. Observations:</th>      <td>   100</td>      <th>  AIC:               </th> <td>   500.7</td>\n",
       "</tr>\n",
       "<tr>\n",
       "  <th>Df Residuals:</th>          <td>    99</td>      <th>  BIC:               </th> <td>   503.3</td>\n",
       "</tr>\n",
       "<tr>\n",
       "  <th>Df Model:</th>              <td>     1</td>      <th>                     </th>     <td> </td>   \n",
       "</tr>\n",
       "<tr>\n",
       "  <th>Covariance Type:</th>      <td>nonrobust</td>    <th>                     </th>     <td> </td>   \n",
       "</tr>\n",
       "</table>\n",
       "<table class=\"simpletable\">\n",
       "<tr>\n",
       "   <td></td>     <th>coef</th>     <th>std err</th>      <th>t</th>      <th>P>|t|</th> <th>[95.0% Conf. Int.]</th> \n",
       "</tr>\n",
       "<tr>\n",
       "  <th>x1</th> <td>    2.7365</td> <td>    0.053</td> <td>   51.159</td> <td> 0.000</td> <td>    2.630     2.843</td>\n",
       "</tr>\n",
       "</table>\n",
       "<table class=\"simpletable\">\n",
       "<tr>\n",
       "  <th>Omnibus:</th>       <td>191.959</td> <th>  Durbin-Watson:     </th> <td>   1.291</td>\n",
       "</tr>\n",
       "<tr>\n",
       "  <th>Prob(Omnibus):</th> <td> 0.000</td>  <th>  Jarque-Bera (JB):  </th> <td>   9.232</td>\n",
       "</tr>\n",
       "<tr>\n",
       "  <th>Skew:</th>          <td>-0.023</td>  <th>  Prob(JB):          </th> <td> 0.00989</td>\n",
       "</tr>\n",
       "<tr>\n",
       "  <th>Kurtosis:</th>      <td> 1.512</td>  <th>  Cond. No.          </th> <td>    1.00</td>\n",
       "</tr>\n",
       "</table>"
      ],
      "text/plain": [
       "<class 'statsmodels.iolib.summary.Summary'>\n",
       "\"\"\"\n",
       "                            OLS Regression Results                            \n",
       "==============================================================================\n",
       "Dep. Variable:                      y   R-squared:                       0.964\n",
       "Model:                            OLS   Adj. R-squared:                  0.963\n",
       "Method:                 Least Squares   F-statistic:                     2617.\n",
       "Date:                Tue, 13 Nov 2018   Prob (F-statistic):           5.17e-73\n",
       "Time:                        16:47:24   Log-Likelihood:                -249.35\n",
       "No. Observations:                 100   AIC:                             500.7\n",
       "Df Residuals:                      99   BIC:                             503.3\n",
       "Df Model:                           1                                         \n",
       "Covariance Type:            nonrobust                                         \n",
       "==============================================================================\n",
       "                 coef    std err          t      P>|t|      [95.0% Conf. Int.]\n",
       "------------------------------------------------------------------------------\n",
       "x1             2.7365      0.053     51.159      0.000         2.630     2.843\n",
       "==============================================================================\n",
       "Omnibus:                      191.959   Durbin-Watson:                   1.291\n",
       "Prob(Omnibus):                  0.000   Jarque-Bera (JB):                9.232\n",
       "Skew:                          -0.023   Prob(JB):                      0.00989\n",
       "Kurtosis:                       1.512   Cond. No.                         1.00\n",
       "==============================================================================\n",
       "\n",
       "Warnings:\n",
       "[1] Standard Errors assume that the covariance matrix of the errors is correctly specified.\n",
       "\"\"\""
      ]
     },
     "execution_count": 7,
     "metadata": {},
     "output_type": "execute_result"
    }
   ],
   "source": [
    "#THE WRONG WAY\n",
    "smfit = smf.OLS(line[0][:], x[0][:]).fit()\n",
    "smfit.summary()"
   ]
  },
  {
   "cell_type": "markdown",
   "metadata": {
    "run_control": {
     "frozen": false,
     "read_only": false
    }
   },
   "source": [
    "# 4. plot the data (as points) and both statsmodels fits"
   ]
  },
  {
   "cell_type": "code",
   "execution_count": 8,
   "metadata": {},
   "outputs": [
    {
     "data": {
      "text/plain": [
       "Text(0,0.5,'Exogenous variable')"
      ]
     },
     "execution_count": 8,
     "metadata": {},
     "output_type": "execute_result"
    },
    {
     "data": {
      "image/png": "[encoded data removed]",
      "text/plain": [
       "<matplotlib.figure.Figure at 0x7fc5929317b8>"
      ]
     },
     "metadata": {},
     "output_type": "display_data"
    }
   ],
   "source": [
    "fig, ax = plt.subplots(figsize=(8,8))\n",
    "\n",
    "ax.plot(x[0][:], line[0][:], 'bo')\n",
    "ax.plot(x[0][:] ,lRes.predict(),'g' , label='fitting with intercept')\n",
    "ax.plot(x[0][:] ,smfit.predict() ,'r' , label='fitting without intercept')\n",
    "ax.legend()\n",
    "ax.set_title('FIGURE 2: Plot showing the error values of a given line')\n",
    "ax.set_xlabel('Endogenous variable')\n",
    "ax.set_ylabel('Exogenous variable')"
   ]
  },
  {
   "cell_type": "markdown",
   "metadata": {
    "run_control": {
     "frozen": false,
     "read_only": false
    }
   },
   "source": [
    "# 5. create a line with a chosen slope and a chosen intercept >=100*slope and plot it with uncertainties as errorbars"
   ]
  },
  {
   "cell_type": "code",
   "execution_count": 9,
   "metadata": {},
   "outputs": [],
   "source": [
    "def line(a, x, b=0, errors=None):\n",
    "    '''\n",
    "    creates a line from parameters and exogenous variable\n",
    "    a: slope\n",
    "    x: exogenous variable\n",
    "    b: intercept - default 0\n",
    "    errors: add uncertainties (sqrt(N) - default True)\n",
    "    '''\n",
    "    np.random.randn(123)\n",
    "    if errors is None:\n",
    "        return a*x + b \n",
    "    else:\n",
    "        return a*x + b + np.random.randn(len(x)) * errors(x)\n",
    "    \n",
    "\n",
    "x = np.random.randint(0,50,(1,10))\n",
    "line2 = line(12,x,232)\n"
   ]
  },
  {
   "cell_type": "code",
   "execution_count": 10,
   "metadata": {},
   "outputs": [
    {
     "data": {
      "text/plain": [
       "Text(0.5,1,'FIGURE 3: Plot showing the error values of a given line')"
      ]
     },
     "execution_count": 10,
     "metadata": {},
     "output_type": "execute_result"
    },
    {
     "data": {
      "image/png": "[encoded data removed]",
      "text/plain": [
       "<matplotlib.figure.Figure at 0x7fc590a8f6a0>"
      ]
     },
     "metadata": {},
     "output_type": "display_data"
    }
   ],
   "source": [
    "plt.errorbar(\n",
    "    x[0][:],  # X\n",
    "    line2[0][:], # Y\n",
    "    yerr=np.sqrt(line2[0][:])\n",
    "    ,     # Y-errors\n",
    "    label=\"Error bars plot\",\n",
    "    fmt=\"bs\", # format line like for plot()\n",
    "    linewidth=1)\n",
    "\n",
    "plt.ylabel('exogenous')\n",
    "plt.xlabel('endogenous')\n",
    "\n",
    "plt.title('FIGURE 3: Plot showing the error values of a given line')"
   ]
  },
  {
   "cell_type": "markdown",
   "metadata": {
    "run_control": {
     "frozen": false,
     "read_only": false
    }
   },
   "source": [
    "# 6. repeat step 3"
   ]
  },
  {
   "cell_type": "code",
   "execution_count": 11,
   "metadata": {},
   "outputs": [
    {
     "name": "stdout",
     "output_type": "stream",
     "text": [
      "Result without intercept\n",
      "                            OLS Regression Results                            \n",
      "==============================================================================\n",
      "Dep. Variable:                      y   R-squared:                       0.988\n",
      "Model:                            OLS   Adj. R-squared:                  0.987\n",
      "Method:                 Least Squares   F-statistic:                     769.3\n",
      "Date:                Tue, 13 Nov 2018   Prob (F-statistic):           5.00e-10\n",
      "Time:                        16:47:24   Log-Likelihood:                -56.845\n",
      "No. Observations:                  10   AIC:                             115.7\n",
      "Df Residuals:                       9   BIC:                             116.0\n",
      "Df Model:                           1                                         \n",
      "Covariance Type:            nonrobust                                         \n",
      "==============================================================================\n",
      "                 coef    std err          t      P>|t|      [95.0% Conf. Int.]\n",
      "------------------------------------------------------------------------------\n",
      "x1            18.0561      0.651     27.737      0.000        16.584    19.529\n",
      "==============================================================================\n",
      "Omnibus:                        5.030   Durbin-Watson:                   1.332\n",
      "Prob(Omnibus):                  0.081   Jarque-Bera (JB):                1.192\n",
      "Skew:                          -0.048   Prob(JB):                        0.551\n",
      "Kurtosis:                       1.312   Cond. No.                         1.00\n",
      "==============================================================================\n",
      "\n",
      "Warnings:\n",
      "[1] Standard Errors assume that the covariance matrix of the errors is correctly specified.\n",
      "Result with intercept\n",
      "                            OLS Regression Results                            \n",
      "==============================================================================\n",
      "Dep. Variable:                      y   R-squared:                       1.000\n",
      "Model:                            OLS   Adj. R-squared:                  1.000\n",
      "Method:                 Least Squares   F-statistic:                 2.029e+30\n",
      "Date:                Tue, 13 Nov 2018   Prob (F-statistic):          6.61e-119\n",
      "Time:                        16:47:24   Log-Likelihood:                 275.34\n",
      "No. Observations:                  10   AIC:                            -546.7\n",
      "Df Residuals:                       8   BIC:                            -546.1\n",
      "Df Model:                           1                                         \n",
      "Covariance Type:            nonrobust                                         \n",
      "==============================================================================\n",
      "                 coef    std err          t      P>|t|      [95.0% Conf. Int.]\n",
      "------------------------------------------------------------------------------\n",
      "const        232.0000   3.07e-13   7.55e+14      0.000       232.000   232.000\n",
      "x1            12.0000   8.42e-15   1.42e+15      0.000        12.000    12.000\n",
      "==============================================================================\n",
      "Omnibus:                        3.350   Durbin-Watson:                   0.073\n",
      "Prob(Omnibus):                  0.187   Jarque-Bera (JB):                1.909\n",
      "Skew:                           0.873   Prob(JB):                        0.385\n",
      "Kurtosis:                       1.762   Cond. No.                         119.\n",
      "==============================================================================\n",
      "\n",
      "Warnings:\n",
      "[1] Standard Errors assume that the covariance matrix of the errors is correctly specified.\n"
     ]
    },
    {
     "name": "stderr",
     "output_type": "stream",
     "text": [
      "/usr/local/Anaconda3-5.0.0-Linux-x86_64/envs/PUI2016_Python3/lib/python3.5/site-packages/scipy/stats/stats.py:1535: UserWarning: kurtosistest only valid for n>=20 ... continuing anyway, n=10\n",
      "  \"anyway, n=%i\" % int(n))\n"
     ]
    }
   ],
   "source": [
    "l_wti = smf.OLS(line2[0][:], x[0][:]).fit()\n",
    "l_wi = smf.OLS(line2[0][:], sm.add_constant(x[0][:])).fit()\n",
    "\n",
    "print('Result without intercept')\n",
    "print(l_wti.summary())\n",
    "print('Result with intercept')\n",
    "print(l_wi.summary())"
   ]
  },
  {
   "cell_type": "code",
   "execution_count": null,
   "metadata": {},
   "outputs": [],
   "source": []
  },
  {
   "cell_type": "code",
   "execution_count": 12,
   "metadata": {},
   "outputs": [
    {
     "data": {
      "text/plain": [
       "Text(0.5,1,'FIGURE 4: Fitting a line using statsmodels')"
      ]
     },
     "execution_count": 12,
     "metadata": {},
     "output_type": "execute_result"
    },
    {
     "data": {
      "image/png": "[encoded data removed]",
      "text/plain": [
       "<matplotlib.figure.Figure at 0x7fc59295bd68>"
      ]
     },
     "metadata": {},
     "output_type": "display_data"
    }
   ],
   "source": [
    "fig, ax =plt.subplots(figsize=(8,8))\n",
    "ax.plot(x[:][0], line2[:][0], 'bo')\n",
    "ax.plot(x[:][0], l_wti.predict() ,'r' , label='fit without intercept')\n",
    "ax.plot(x[:][0], l_wi.predict() ,'g' , label='fit with intercept')\n",
    "ax.legend()\n",
    "ax.set_xlabel('Endogenous variable')\n",
    "ax.set_ylabel('Exogenous variable')\n",
    "ax.set_title('FIGURE 4: Fitting a line using statsmodels')              "
   ]
  },
  {
   "cell_type": "markdown",
   "metadata": {
    "run_control": {
     "frozen": false,
     "read_only": false
    }
   },
   "source": [
    "# 7. now fit the data with WLS weighted least square, a linear fit that takes into account the uncertainties by \"down-weighting\" (considering less important) observations with large uncertainties"
   ]
  },
  {
   "cell_type": "markdown",
   "metadata": {
    "ExecuteTime": {
     "end_time": "2018-11-08T17:02:55.249878Z",
     "start_time": "2018-11-08T17:02:55.203641Z"
    },
    "run_control": {
     "frozen": false,
     "read_only": false
    }
   },
   "source": [
    "you should at this point ask: how can I create weights from my uncertainties? The answer, as often is the case, is not unique. But a rule of thumb is that the weights would be the _inverse_ (remember: larger error must mean smaller weight) of the variance, with is the standard deviation square. Look at the error() function I create and design your weights array according to this rule"
   ]
  },
  {
   "cell_type": "code",
   "execution_count": 13,
   "metadata": {},
   "outputs": [],
   "source": [
    "#calculating the variance of each observation\n",
    "weights = []\n",
    "\n",
    "for obs in line2[0][:]:\n",
    "    variance = (obs - line2[0][:].mean())**2\n",
    "    weights.append(variance)"
   ]
  },
  {
   "cell_type": "code",
   "execution_count": 14,
   "metadata": {},
   "outputs": [],
   "source": [
    "weights = np.array(weights)"
   ]
  },
  {
   "cell_type": "code",
   "execution_count": 15,
   "metadata": {
    "ExecuteTime": {
     "end_time": "2018-11-08T17:14:01.661927Z",
     "start_time": "2018-11-08T17:14:01.633175Z"
    },
    "run_control": {
     "frozen": false,
     "read_only": false
    }
   },
   "outputs": [
    {
     "name": "stdout",
     "output_type": "stream",
     "text": [
      "                            WLS Regression Results                            \n",
      "==============================================================================\n",
      "Dep. Variable:                      y   R-squared:                       1.000\n",
      "Model:                            WLS   Adj. R-squared:                  1.000\n",
      "Method:                 Least Squares   F-statistic:                 2.029e+30\n",
      "Date:                Tue, 13 Nov 2018   Prob (F-statistic):          6.61e-119\n",
      "Time:                        16:47:24   Log-Likelihood:                 275.34\n",
      "No. Observations:                  10   AIC:                            -546.7\n",
      "Df Residuals:                       8   BIC:                            -546.1\n",
      "Df Model:                           1                                         \n",
      "Covariance Type:            nonrobust                                         \n",
      "==============================================================================\n",
      "                 coef    std err          t      P>|t|      [95.0% Conf. Int.]\n",
      "------------------------------------------------------------------------------\n",
      "const        232.0000   3.07e-13   7.55e+14      0.000       232.000   232.000\n",
      "x1            12.0000   8.42e-15   1.42e+15      0.000        12.000    12.000\n",
      "==============================================================================\n",
      "Omnibus:                        3.350   Durbin-Watson:                   0.073\n",
      "Prob(Omnibus):                  0.187   Jarque-Bera (JB):                1.909\n",
      "Skew:                           0.873   Prob(JB):                        0.385\n",
      "Kurtosis:                       1.762   Cond. No.                         119.\n",
      "==============================================================================\n",
      "\n",
      "Warnings:\n",
      "[1] Standard Errors assume that the covariance matrix of the errors is correctly specified.\n"
     ]
    },
    {
     "name": "stderr",
     "output_type": "stream",
     "text": [
      "/usr/local/Anaconda3-5.0.0-Linux-x86_64/envs/PUI2016_Python3/lib/python3.5/site-packages/scipy/stats/stats.py:1535: UserWarning: kurtosistest only valid for n>=20 ... continuing anyway, n=10\n",
      "  \"anyway, n=%i\" % int(n))\n"
     ]
    }
   ],
   "source": [
    "wls_model = sm.WLS(line2[0][:],sm.add_constant(x[0][:]),weight= 1./weights).fit()\n",
    "\n",
    "print(wls_model.summary())"
   ]
  },
  {
   "cell_type": "markdown",
   "metadata": {},
   "source": [
    "### Deciding the weights for each observation\n",
    "\n",
    "for each observation, first I calculated how much it differed from the mean , and then I used the square of this difference as a weight to divide the observsations for weighted linear regression."
   ]
  },
  {
   "cell_type": "code",
   "execution_count": null,
   "metadata": {},
   "outputs": [],
   "source": []
  }
 ],
 "metadata": {
  "kernelspec": {
   "display_name": "PUI2016_Python3",
   "language": "python",
   "name": "pui2016_python3"
  },
  "language_info": {
   "codemirror_mode": {
    "name": "ipython",
    "version": 3
   },
   "file_extension": ".py",
   "mimetype": "text/x-python",
   "name": "python",
   "nbconvert_exporter": "python",
   "pygments_lexer": "ipython3",
   "version": "3.5.4"
  },
  "toc": {
   "colors": {
    "hover_highlight": "#DAA520",
    "running_highlight": "#FF0000",
    "selected_highlight": "#FFD700"
   },
   "moveMenuLeft": true,
   "nav_menu": {
    "height": "12px",
    "width": "252px"
   },
   "navigate_menu": true,
   "number_sections": true,
   "sideBar": true,
   "threshold": 4,
   "toc_cell": false,
   "toc_section_display": "block",
   "toc_window_display": false
  }
 },
 "nbformat": 4,
 "nbformat_minor": 2
}
